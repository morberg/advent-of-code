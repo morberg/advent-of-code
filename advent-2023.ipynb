{
 "cells": [
  {
   "cell_type": "code",
   "execution_count": 185,
   "metadata": {},
   "outputs": [],
   "source": [
    "import re\n",
    "from collections import defaultdict, Counter\n",
    "from math import prod\n",
    "\n",
    "from functools import cache\n",
    "\n",
    "import black\n",
    "import jupyter_black\n",
    "from parse import parse\n",
    "\n",
    "jupyter_black.load(lab=True, target_version=black.TargetVersion.PY310)\n",
    "\n",
    "\n",
    "def ints(text: str) -> list[int]:\n",
    "    return [int(x) for x in re.findall(\"-?\\d+\", text)]\n",
    "\n",
    "\n",
    "def first(iterable):\n",
    "    return next(iter(iterable))\n",
    "\n",
    "\n",
    "def data(day: int, parser=str, sep=\"\\n\", example=False) -> list:\n",
    "    \"Split the day's input file into sections separated by `sep`, and apply `parser` to each.\"\n",
    "    filename = f\"2023/{day}-example.txt\" if example else f\"2023/{day}.txt\"\n",
    "    sections = open(filename).read().rstrip().split(sep)\n",
    "    return [parser(section) for section in sections]"
   ]
  },
  {
   "cell_type": "code",
   "execution_count": 94,
   "metadata": {},
   "outputs": [
    {
     "name": "stdout",
     "output_type": "stream",
     "text": [
      "Part 1: 53921\n",
      "Part 2: 54676\n"
     ]
    }
   ],
   "source": [
    "# Day 1: Trebuchet?!\n",
    "numbers = {\n",
    "    \"one\": \"1\",\n",
    "    \"two\": \"2\",\n",
    "    \"three\": \"3\",\n",
    "    \"four\": \"4\",\n",
    "    \"five\": \"5\",\n",
    "    \"six\": \"6\",\n",
    "    \"seven\": \"7\",\n",
    "    \"eight\": \"8\",\n",
    "    \"nine\": \"9\",\n",
    "}\n",
    "\n",
    "\n",
    "def calibration_value(line, part1=True):\n",
    "    numbers_found = \"\"\n",
    "    for start, char in enumerate(line):\n",
    "        if char.isdigit():\n",
    "            numbers_found += char\n",
    "        if part1:\n",
    "            continue\n",
    "        for key, value in numbers.items():\n",
    "            if line.startswith(key, start):\n",
    "                numbers_found += value\n",
    "    calibration_value = numbers_found[0] + numbers_found[-1]\n",
    "    return int(calibration_value)\n",
    "\n",
    "\n",
    "games = data(1)\n",
    "points = sum([calibration_value(line) for line in games])\n",
    "print(f\"Part 1: {points}\")  # 53921\n",
    "points = sum([calibration_value(line, part1=False) for line in games])\n",
    "print(f\"Part 2: {points}\")  # 54676"
   ]
  },
  {
   "cell_type": "code",
   "execution_count": 151,
   "metadata": {},
   "outputs": [
    {
     "name": "stdout",
     "output_type": "stream",
     "text": [
      "Part 1: 2563\n",
      "Part 2: 70768\n"
     ]
    }
   ],
   "source": [
    "# Day 2: Cube Conundrum\n",
    "games = data(2)\n",
    "possible_games = 0\n",
    "powers = []\n",
    "for game_nr, game in enumerate(games, 1):\n",
    "    max_cubes_seen = {\"red\": 0, \"blue\": 0, \"green\": 0}\n",
    "    cubes_seen = game.split(\": \")[1].split(\"; \")\n",
    "    for cubes in cubes_seen:\n",
    "        for cube in cubes.split(\", \"):\n",
    "            count, color = cube.split()\n",
    "            count = int(count)\n",
    "            if count > max_cubes_seen[color]:\n",
    "                max_cubes_seen[color] = count\n",
    "    if (\n",
    "        max_cubes_seen[\"red\"] <= 12\n",
    "        and max_cubes_seen[\"green\"] <= 13\n",
    "        and max_cubes_seen[\"blue\"] <= 14\n",
    "    ):\n",
    "        possible_games += game_nr\n",
    "    powers.append(prod(max_cubes_seen.values()))\n",
    "\n",
    "print(f\"Part 1: {possible_games}\")  # 2563\n",
    "print(f\"Part 2: {sum(powers)}\")  # 70768"
   ]
  },
  {
   "cell_type": "code",
   "execution_count": 181,
   "metadata": {},
   "outputs": [
    {
     "name": "stdout",
     "output_type": "stream",
     "text": [
      "Part 1: 514969\n",
      "Part 2: 78915902\n"
     ]
    }
   ],
   "source": [
    "# Day 3: Gear Ratios\n",
    "def neighbors(point):\n",
    "    row, col = point\n",
    "    potential = (\n",
    "        (row - 1, col - 1),\n",
    "        (row, col - 1),\n",
    "        (row + 1, col - 1),\n",
    "        (row - 1, col),\n",
    "        (row + 1, col),\n",
    "        (row - 1, col + 1),\n",
    "        (row, col + 1),\n",
    "        (row + 1, col + 1),\n",
    "    )\n",
    "    for (r, c) in potential:\n",
    "        if 0 <= r < len(grid[0]) and 0 <= c < len(grid):\n",
    "            yield (r, c)\n",
    "\n",
    "\n",
    "grid = data(3)\n",
    "gears = defaultdict(list)\n",
    "part_numbers = []\n",
    "\n",
    "for row_number, row in enumerate(grid):\n",
    "    current_number = \"\"\n",
    "    to_check = set()\n",
    "    # Add '.' to catch numbers at end of line and avoid separate check after loop\n",
    "    # completion\n",
    "    for col_number, char in enumerate(row + \".\"):\n",
    "        if char.isdigit():\n",
    "            current_number += char\n",
    "            for point in neighbors((row_number, col_number)):\n",
    "                to_check.add(point)\n",
    "        elif current_number:\n",
    "            for (r, c) in to_check:\n",
    "                if grid[r][c] not in \"0123456789.\":\n",
    "                    # Symbol found, we are a part_number\n",
    "                    part_numbers.append(int(current_number))\n",
    "                if grid[r][c] == \"*\":\n",
    "                    # Gear found, add number connected to this gear\n",
    "                    gears[(r, c)].append(int(current_number))\n",
    "            current_number = \"\"\n",
    "            to_check = set()\n",
    "print(f\"Part 1: {sum(part_numbers)}\")  # 514969\n",
    "part2 = sum((prod(gear) for gear in gears.values() if len(gear) == 2))\n",
    "print(f\"Part 2: {part2}\")  # 78915902"
   ]
  },
  {
   "cell_type": "code",
   "execution_count": 94,
   "metadata": {},
   "outputs": [
    {
     "name": "stdout",
     "output_type": "stream",
     "text": [
      "Part 1: 28750\n",
      "Part 2: 10212704\n"
     ]
    }
   ],
   "source": [
    "# Day 4: Scratchcards\n",
    "cards = data(4)\n",
    "points = 0\n",
    "total_cards = Counter([*range(len(cards))])  # One of each card to begin with\n",
    "for card_nr, card in enumerate(cards):\n",
    "    winning_numbers, my_numbers = map(ints, card.split(\": \")[1].split(\" | \"))\n",
    "    winners = sum(1 for number in my_numbers if number in winning_numbers)\n",
    "    if winners:\n",
    "        points += 2 ** (winners - 1)\n",
    "        total_cards.update(\n",
    "            total_cards[card_nr] * [*range(card_nr + 1, card_nr + winners + 1)]\n",
    "        )\n",
    "\n",
    "print(f\"Part 1: {points}\")  # 28750\n",
    "print(f\"Part 2: {sum(total_cards.values())}\")  # 10212704"
   ]
  },
  {
   "cell_type": "code",
   "execution_count": 160,
   "metadata": {},
   "outputs": [
    {
     "name": "stdout",
     "output_type": "stream",
     "text": [
      "Part 1: 462648396\n"
     ]
    }
   ],
   "source": [
    "# Day 5: If You Give A Seed A Fertilizer\n",
    "def get_destination(seed, mapping):\n",
    "    for dest, source, range_ in zip(mapping[0::3], mapping[1::3], mapping[2::3]):\n",
    "        if source <= seed <= source + range_:\n",
    "            return dest - source + seed\n",
    "    return seed\n",
    "\n",
    "\n",
    "def get_location(seed, mappings):\n",
    "    for mapping in mappings:\n",
    "        seed = get_destination(seed, mapping)\n",
    "    return seed\n",
    "\n",
    "\n",
    "chunks = data(5, sep=\"\\n\\n\")\n",
    "seeds = ints(chunks[0])\n",
    "mappings = [tuple(ints(chunk)) for chunk in chunks[1:]]\n",
    "\n",
    "print(f\"Part 1: {min(get_location(seed, mappings) for seed in seeds)}\")"
   ]
  },
  {
   "cell_type": "code",
   "execution_count": 184,
   "metadata": {},
   "outputs": [
    {
     "name": "stdout",
     "output_type": "stream",
     "text": [
      "1 23\n",
      "2 24\n",
      "3 25\n",
      "4 26\n",
      "5 27\n",
      "6 28\n",
      "7 29\n",
      "8 30\n",
      "9 31\n",
      "10 32\n",
      "11 33\n",
      "12 34\n",
      "13 35\n",
      "14 43\n",
      "15 36\n",
      "16 37\n",
      "17 38\n",
      "18 39\n",
      "19 40\n",
      "20 41\n",
      "21 42\n",
      "22 43\n",
      "23 91\n",
      "24 92\n",
      "25 93\n",
      "26 1\n",
      "27 2\n",
      "28 3\n",
      "29 4\n",
      "30 5\n",
      "31 6\n",
      "32 7\n",
      "33 8\n",
      "34 9\n",
      "35 10\n",
      "36 11\n",
      "37 12\n",
      "38 13\n",
      "39 14\n",
      "40 15\n",
      "41 16\n",
      "42 17\n",
      "43 18\n",
      "44 61\n",
      "45 62\n",
      "46 63\n",
      "47 64\n",
      "48 65\n",
      "49 66\n",
      "50 20\n"
     ]
    }
   ],
   "source": [
    "chunks = \"\"\"seeds: 79 14 55 13\n",
    "\n",
    "seed-to-soil map:\n",
    "50 98 2\n",
    "52 50 48\n",
    "\n",
    "soil-to-fertilizer map:\n",
    "0 15 37\n",
    "37 52 2\n",
    "39 0 15\n",
    "\n",
    "fertilizer-to-water map:\n",
    "49 53 8\n",
    "0 11 42\n",
    "42 0 7\n",
    "57 7 4\n",
    "\n",
    "water-to-light map:\n",
    "88 18 7\n",
    "18 25 70\n",
    "\n",
    "light-to-temperature map:\n",
    "45 77 23\n",
    "81 45 19\n",
    "68 64 13\n",
    "\n",
    "temperature-to-humidity map:\n",
    "0 69 1\n",
    "1 0 69\n",
    "\n",
    "humidity-to-location map:\n",
    "60 56 37\n",
    "56 93 4\"\"\".split(\n",
    "    \"\\n\\n\"\n",
    ")\n",
    "\n",
    "# Day 5: If You Give A Seed A Fertilizer\n",
    "def get_destination(seed, mapping):\n",
    "    for dest, source, range_ in zip(mapping[0::3], mapping[1::3], mapping[2::3]):\n",
    "        if source <= seed <= source + range_:\n",
    "            return dest - source + seed\n",
    "    return seed\n",
    "\n",
    "\n",
    "def get_location(seed, mappings):\n",
    "    for mapping in mappings:\n",
    "        seed = get_destination(seed, mapping)\n",
    "    return seed\n",
    "\n",
    "\n",
    "# chunks = data(5, sep=\"\\n\\n\")\n",
    "\n",
    "seeds = ints(chunks[0])\n",
    "mappings = [ints(chunk) for chunk in chunks[1:]]\n",
    "start = 1\n",
    "for seed in range(start, start + 50):\n",
    "    print(seed, get_location(seed, mappings))"
   ]
  },
  {
   "cell_type": "code",
   "execution_count": 216,
   "metadata": {},
   "outputs": [
    {
     "name": "stdout",
     "output_type": "stream",
     "text": [
      "Part 1: 512295\n",
      "Part 2: 36530883\n"
     ]
    }
   ],
   "source": [
    "# Day 6: Wait For It\n",
    "times, distances = data(6, ints)\n",
    "\n",
    "# Travel distance = speed * (time - button_press), where speed = button_press\n",
    "part1 = prod(\n",
    "    sum(\n",
    "        1\n",
    "        for button_press in range(time)\n",
    "        if button_press * (time - button_press) > distance\n",
    "    )\n",
    "    for time, distance in zip(times, distances)\n",
    ")\n",
    "print(f\"Part 1: {part1}\")  # 512295\n",
    "\n",
    "time = int(\"\".join(map(str, times)))\n",
    "distance = int(\"\".join(map(str, distances)))\n",
    "part2 = sum(\n",
    "    1 for button_press in range(time) if button_press * (time - button_press) > distance\n",
    ")\n",
    "print(f\"Part 2: {part2}\")  # 36530883 (6s)"
   ]
  },
  {
   "cell_type": "code",
   "execution_count": null,
   "metadata": {},
   "outputs": [],
   "source": []
  }
 ],
 "metadata": {
  "kernelspec": {
   "display_name": "Python 3.10.6 64-bit ('3.10.6')",
   "language": "python",
   "name": "python3"
  },
  "language_info": {
   "codemirror_mode": {
    "name": "ipython",
    "version": 3
   },
   "file_extension": ".py",
   "mimetype": "text/x-python",
   "name": "python",
   "nbconvert_exporter": "python",
   "pygments_lexer": "ipython3",
   "version": "3.10.6"
  },
  "orig_nbformat": 4,
  "vscode": {
   "interpreter": {
    "hash": "5319d5bf7e36bfcf27cea384254d8f85c68ed4d2ed4a006aeced7224a94cc17a"
   }
  }
 },
 "nbformat": 4,
 "nbformat_minor": 2
}
