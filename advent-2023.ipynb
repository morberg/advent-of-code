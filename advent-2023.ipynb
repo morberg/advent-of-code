{
 "cells": [
  {
   "cell_type": "code",
   "execution_count": 53,
   "metadata": {},
   "outputs": [],
   "source": [
    "import re\n",
    "\n",
    "import black\n",
    "import jupyter_black\n",
    "from math import prod\n",
    "from parse import parse\n",
    "\n",
    "jupyter_black.load(lab=True, target_version=black.TargetVersion.PY310)\n",
    "\n",
    "\n",
    "def ints(text: str) -> list[int]:\n",
    "    return [int(x) for x in re.findall(\"-?\\d+\", text)]\n",
    "\n",
    "\n",
    "def first(iterable):\n",
    "    return next(iter(iterable))\n",
    "\n",
    "\n",
    "def data(day: int, parser=str, sep=\"\\n\", example=False) -> list:\n",
    "    \"Split the day's input file into sections separated by `sep`, and apply `parser` to each.\"\n",
    "    filename = f\"2023/{day}-example.txt\" if example else f\"2023/{day}.txt\"\n",
    "    sections = open(filename).read().rstrip().split(sep)\n",
    "    return [parser(section) for section in sections]"
   ]
  },
  {
   "cell_type": "code",
   "execution_count": 94,
   "metadata": {},
   "outputs": [
    {
     "name": "stdout",
     "output_type": "stream",
     "text": [
      "Part 1: 53921\n",
      "Part 2: 54676\n"
     ]
    }
   ],
   "source": [
    "# Day 1: Trebuchet?!\n",
    "numbers = {\n",
    "    \"one\": \"1\",\n",
    "    \"two\": \"2\",\n",
    "    \"three\": \"3\",\n",
    "    \"four\": \"4\",\n",
    "    \"five\": \"5\",\n",
    "    \"six\": \"6\",\n",
    "    \"seven\": \"7\",\n",
    "    \"eight\": \"8\",\n",
    "    \"nine\": \"9\",\n",
    "}\n",
    "\n",
    "\n",
    "def calibration_value(line, part1=True):\n",
    "    numbers_found = \"\"\n",
    "    for start, char in enumerate(line):\n",
    "        if char.isdigit():\n",
    "            numbers_found += char\n",
    "        if part1:\n",
    "            continue\n",
    "        for key, value in numbers.items():\n",
    "            if line.startswith(key, start):\n",
    "                numbers_found += value\n",
    "    calibration_value = numbers_found[0] + numbers_found[-1]\n",
    "    return int(calibration_value)\n",
    "\n",
    "\n",
    "games = data(1)\n",
    "result = sum([calibration_value(line) for line in games])\n",
    "print(f\"Part 1: {result}\")  # 53921\n",
    "result = sum([calibration_value(line, part1=False) for line in games])\n",
    "print(f\"Part 2: {result}\")  # 54676"
   ]
  },
  {
   "cell_type": "code",
   "execution_count": 55,
   "metadata": {},
   "outputs": [
    {
     "name": "stdout",
     "output_type": "stream",
     "text": [
      "Part 1: 2563\n",
      "Part 2: 70768\n"
     ]
    }
   ],
   "source": [
    "# Day 2: Cube Conundrum\n",
    "games = data(2)\n",
    "possible_games = []\n",
    "powers = []\n",
    "for game_nr, game in enumerate(games, 1):\n",
    "    max_cubes_seen = {\"red\": 0, \"blue\": 0, \"green\": 0}\n",
    "    cubes_seen = game.split(\": \")[1].split(\"; \")\n",
    "    for cubes in cubes_seen:\n",
    "        for cube in cubes.split(\", \"):\n",
    "            count, color = cube.split()\n",
    "            count = int(count)\n",
    "            if count > max_cubes_seen[color]:\n",
    "                max_cubes_seen[color] = count\n",
    "    if (\n",
    "        max_cubes_seen[\"red\"] <= 12\n",
    "        and max_cubes_seen[\"green\"] <= 13\n",
    "        and max_cubes_seen[\"blue\"] <= 14\n",
    "    ):\n",
    "        possible_games.append(game_nr)\n",
    "    powers.append(prod(max_cubes_seen.values()))\n",
    "\n",
    "print(f\"Part 1: {sum(possible_games)}\")  # 2563\n",
    "print(f\"Part 2: {sum(powers)}\")  # 70768"
   ]
  },
  {
   "cell_type": "code",
   "execution_count": null,
   "metadata": {},
   "outputs": [],
   "source": []
  }
 ],
 "metadata": {
  "kernelspec": {
   "display_name": "Python 3.10.6 64-bit ('3.10.6')",
   "language": "python",
   "name": "python3"
  },
  "language_info": {
   "codemirror_mode": {
    "name": "ipython",
    "version": 3
   },
   "file_extension": ".py",
   "mimetype": "text/x-python",
   "name": "python",
   "nbconvert_exporter": "python",
   "pygments_lexer": "ipython3",
   "version": "3.10.6"
  },
  "orig_nbformat": 4,
  "vscode": {
   "interpreter": {
    "hash": "5319d5bf7e36bfcf27cea384254d8f85c68ed4d2ed4a006aeced7224a94cc17a"
   }
  }
 },
 "nbformat": 4,
 "nbformat_minor": 2
}
