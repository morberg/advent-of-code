{
 "cells": [
  {
   "cell_type": "code",
   "execution_count": 1,
   "metadata": {},
   "outputs": [
    {
     "data": {
      "text/html": [
       "\n",
       "                <script type=\"application/javascript\" id=\"jupyter_black\">\n",
       "                (function() {\n",
       "                    if (window.IPython === undefined) {\n",
       "                        return\n",
       "                    }\n",
       "                    var msg = \"WARNING: it looks like you might have loaded \" +\n",
       "                        \"jupyter_black in a non-lab notebook with \" +\n",
       "                        \"`is_lab=True`. Please double check, and if \" +\n",
       "                        \"loading with `%load_ext` please review the README!\"\n",
       "                    console.log(msg)\n",
       "                    alert(msg)\n",
       "                })()\n",
       "                </script>\n",
       "                "
      ],
      "text/plain": [
       "<IPython.core.display.HTML object>"
      ]
     },
     "metadata": {},
     "output_type": "display_data"
    }
   ],
   "source": [
    "# %pip install z3-solver\n",
    "from z3 import *\n",
    "import re\n",
    "import black\n",
    "import jupyter_black\n",
    "from icecream import ic\n",
    "\n",
    "jupyter_black.load(lab=True, target_version=black.TargetVersion.PY310)"
   ]
  },
  {
   "cell_type": "code",
   "execution_count": 3,
   "metadata": {},
   "outputs": [
    {
     "data": {
      "text/plain": [
       "(sat,\n",
       " [box_five = 2,\n",
       "  box_three = 1,\n",
       "  cost_total = 8,\n",
       "  pop_total = 13,\n",
       "  single = 0])"
      ]
     },
     "execution_count": 3,
     "metadata": {},
     "output_type": "execute_result"
    }
   ],
   "source": [
    "# Problem from\n",
    "# https://artofproblemsolving.com/wiki/index.php?title=2017_AMC_12A_Problems/Problem_1\n",
    "# solution from Chapter 10 in https://sat-smt.codes/SAT_SMT_by_example.pdf\n",
    "\n",
    "\n",
    "single, box_three, box_five = Ints(\"single box_three box_five\")\n",
    "pop_total = Int(\"pop_total\")\n",
    "cost_total = Int(\"cost_total\")\n",
    "\n",
    "s = Optimize()\n",
    "\n",
    "s.add(pop_total == single * 1 + box_three * 3 + box_five * 5)\n",
    "s.add(cost_total == single * 1 + box_three * 2 + box_five * 3)\n",
    "\n",
    "s.add(cost_total == 8)\n",
    "\n",
    "# Gives wrong answer unless these are added\n",
    "s.add(single >= 0)\n",
    "s.add(box_three >= 0)\n",
    "s.add(box_five >= 0)\n",
    "\n",
    "s.maximize(pop_total)\n",
    "\n",
    "s.check(), s.model()"
   ]
  },
  {
   "cell_type": "code",
   "execution_count": 45,
   "metadata": {},
   "outputs": [
    {
     "data": {
      "text/plain": [
       "(sat,\n",
       " [flavor = 18,\n",
       "  durability = 35,\n",
       "  texture = 19,\n",
       "  score = 13882464,\n",
       "  capacity = 28])"
      ]
     },
     "execution_count": 45,
     "metadata": {},
     "output_type": "execute_result"
    }
   ],
   "source": [
    "# AoC 2015, day 15.\n",
    "# Inspired by\n",
    "# https://www.reddit.com/r/adventofcode/comments/q58dpl/2015_day_15_part_12_python_my_z3_solution/\n",
    "def z3_property(index):\n",
    "    val = sum(ingredients[i][index] * Spoons[i] for i, _ in enumerate(ingredients))\n",
    "    return If(val > 0, val, 0)\n",
    "\n",
    "\n",
    "def z3_score():\n",
    "    return z3_property(0) * z3_property(1) * z3_property(2) * z3_property(3)\n",
    "\n",
    "\n",
    "# My input - doesn't complete after several hours running time\n",
    "# Frosting: capacity 4, durability -2, flavor 0, texture 0, calories 5\n",
    "# Candy: capacity 0, durability 5, flavor -1, texture 0, calories 8\n",
    "# Butterscotch: capacity -1, durability 0, flavor 5, texture 0, calories 6\n",
    "# Sugar: capacity 0, durability 0, flavor -2, texture 2, calories 1\n",
    "# frosting = (4, -2, 0, 0, 5)\n",
    "# candy = (0, 5, -1, 0, 8)\n",
    "# butterscotch = (-1, 0, 5, 0, 6)\n",
    "# sugar = (0, 0, -2, 2, 1)\n",
    "# ingredients = (frosting, candy, butterscotch, sugar)\n",
    "\n",
    "# Input from reddit, takes 2-6 min to complete\n",
    "sprinkles = (5, -1, 0, 0, 5)\n",
    "peanutbutter = (-1, 3, 0, 0, 1)\n",
    "frosting = (0, -1, 4, 0, 6)\n",
    "sugar = (-1, 0, 0, 2, 8)\n",
    "ingredients = (sprinkles, peanutbutter, frosting, sugar)\n",
    "\n",
    "properties = [\"capacity\", \"durability\", \"flavor\", \"texture\"]\n",
    "Spoons = [Int(f\"{p}\") for p in properties]\n",
    "score = Int(\"score\")\n",
    "\n",
    "s = Optimize()\n",
    "s.add(Sum(Spoons) == 100)\n",
    "s.add(*(Spoons[p] > 0 for p, _ in enumerate(properties)))\n",
    "s.add(score == z3_score())\n",
    "s.maximize(score)\n",
    "s.check(), s.model()"
   ]
  },
  {
   "cell_type": "code",
   "execution_count": 47,
   "metadata": {},
   "outputs": [
    {
     "name": "stdout",
     "output_type": "stream",
     "text": [
      "Part 2: 97816347\n"
     ]
    }
   ],
   "source": [
    "# AOC 2018 day 23, part 2\n",
    "def manhattan_distance(a, b):\n",
    "    return abs(a[0] - b[0]) + abs(a[1] - b[1]) + abs(a[2] - b[2])\n",
    "\n",
    "\n",
    "def zabs(x):\n",
    "    return If(x >= 0, x, -x)\n",
    "\n",
    "\n",
    "lines = open(\"2018/23.txt\").read().splitlines()\n",
    "bots = [\n",
    "    tuple(int(x) for x in re.findall(\"-?\\d+\", line)) for line in lines\n",
    "]  # x, y, z, r\n",
    "\n",
    "(x, y, z) = Ints(\"x y z\")\n",
    "in_ranges = [Int(f\"in_range_{i}\") for i, _ in enumerate(bots)]\n",
    "range_count = Int(\"range_count\")\n",
    "s = Optimize()\n",
    "for i, bot in enumerate(bots):\n",
    "    nx, ny, nz, nrng = bot\n",
    "    s.add(in_ranges[i] == If(zabs(x - nx) + zabs(y - ny) + zabs(z - nz) <= nrng, 1, 0))\n",
    "\n",
    "s.add(range_count == sum(in_ranges))\n",
    "dist_from_zero = Int(\"dist\")\n",
    "s.add(dist_from_zero == zabs(x) + zabs(y) + zabs(z))\n",
    "s.maximize(range_count)\n",
    "s.minimize(dist_from_zero)\n",
    "s.check()\n",
    "print(\"Part 2:\", s.model().eval(dist_from_zero))"
   ]
  },
  {
   "cell_type": "code",
   "execution_count": null,
   "metadata": {},
   "outputs": [],
   "source": [
    "# AOC 2018 day 23, part 2\n",
    "def manhattan_distance(a, b):\n",
    "    return abs(a[0] - b[0]) + abs(a[1] - b[1]) + abs(a[2] - b[2])\n",
    "\n",
    "\n",
    "def zabs(x):\n",
    "    return If(x >= 0, x, -x)\n",
    "\n",
    "\n",
    "lines = open(\"2018/23.txt\").read().splitlines()\n",
    "bots = [\n",
    "    tuple(int(x) for x in re.findall(\"-?\\d+\", line)) for line in lines\n",
    "]  # x, y, z, r\n",
    "\n",
    "(x, y, z) = Ints(\"x y z\")\n",
    "in_ranges = [Int(f\"in_range_{i}\") for i, _ in enumerate(bots)]\n",
    "range_count = Int(\"range_count\")\n",
    "s = Optimize()\n",
    "for i, bot in enumerate(bots):\n",
    "    nx, ny, nz, nrng = bot\n",
    "    s.add(in_ranges[i] == If(zabs(x - nx) + zabs(y - ny) + zabs(z - nz) <= nrng, 1, 0))\n",
    "\n",
    "s.add(range_count == sum(in_ranges))\n",
    "dist_from_zero = Int(\"dist\")\n",
    "s.add(dist_from_zero == zabs(x) + zabs(y) + zabs(z))\n",
    "s.maximize(range_count)\n",
    "s.minimize(dist_from_zero)\n",
    "s.check()\n",
    "print(\"Part 2:\", s.model().eval(dist_from_zero))"
   ]
  },
  {
   "cell_type": "code",
   "execution_count": 4,
   "metadata": {},
   "outputs": [
    {
     "name": "stdout",
     "output_type": "stream",
     "text": [
      "Part 1: 80326079210554\n",
      "Part 2: 3617613952378\n"
     ]
    }
   ],
   "source": [
    "# AOC 2022 Day 21: Monkey Math using z3\n",
    "import z3\n",
    "from parse import parse\n",
    "def solve(solve_for, lines):\n",
    "    s = z3.Solver()\n",
    "    values = {}\n",
    "    for line in lines:\n",
    "        if p := parse(\"{}: {:d}\", line):\n",
    "            monkey, value = p\n",
    "            values[monkey] = z3.Int(monkey)\n",
    "            if monkey != \"humn\" or solve_for != \"humn\":\n",
    "                s.add(values[monkey] == value)\n",
    "        elif p := parse(\"{}: {} {} {}\", line):\n",
    "            monkey, left, operand, right = p\n",
    "            values[monkey] = z3.Int(monkey)\n",
    "            values[left] = z3.Int(left)\n",
    "            values[right] = z3.Int(right)\n",
    "            if solve_for == \"humn\" and monkey == \"root\":\n",
    "                s.add(values[left] == values[right])\n",
    "            elif operand == \"+\":\n",
    "                s.add(values[monkey] == values[left] + values[right])\n",
    "            elif operand == \"-\":\n",
    "                s.add(values[monkey] == values[left] - values[right])\n",
    "            elif operand == \"*\":\n",
    "                s.add(values[monkey] == values[left] * values[right])\n",
    "            elif operand == \"/\":\n",
    "                s.add(values[monkey] == values[left] / values[right])\n",
    "    s.check()\n",
    "    return s.model().eval(values[solve_for])\n",
    "\n",
    "\n",
    "lines = open('2022/21.txt').read().splitlines()\n",
    "print(f'Part 1: {solve(\"root\", lines)}')  # 80326079210554\n",
    "print(f'Part 2: {solve(\"humn\", lines)}')  # 3617613952378"
   ]
  },
  {
   "cell_type": "code",
   "execution_count": null,
   "metadata": {},
   "outputs": [],
   "source": []
  }
 ],
 "metadata": {
  "kernelspec": {
   "display_name": "Python 3.10.6 64-bit ('3.10.6')",
   "language": "python",
   "name": "python3"
  },
  "language_info": {
   "codemirror_mode": {
    "name": "ipython",
    "version": 3
   },
   "file_extension": ".py",
   "mimetype": "text/x-python",
   "name": "python",
   "nbconvert_exporter": "python",
   "pygments_lexer": "ipython3",
   "version": "3.10.6 (main, Aug 17 2022, 10:05:26) [Clang 13.1.6 (clang-1316.0.21.2.5)]"
  },
  "orig_nbformat": 4,
  "vscode": {
   "interpreter": {
    "hash": "5319d5bf7e36bfcf27cea384254d8f85c68ed4d2ed4a006aeced7224a94cc17a"
   }
  }
 },
 "nbformat": 4,
 "nbformat_minor": 2
}
