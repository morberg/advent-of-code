{
 "cells": [
  {
   "cell_type": "code",
   "execution_count": 2,
   "metadata": {},
   "outputs": [],
   "source": [
    "from dataclasses import dataclass, field\n",
    "\n",
    "import black\n",
    "import jupyter_black\n",
    "\n",
    "jupyter_black.load(lab=True, target_version=black.TargetVersion.PY310)"
   ]
  },
  {
   "cell_type": "code",
   "execution_count": 7,
   "metadata": {},
   "outputs": [
    {
     "name": "stdout",
     "output_type": "stream",
     "text": [
      "Part 1: 236\n",
      "Part 2: 182\n"
     ]
    }
   ],
   "source": [
    "# Day 1: No Time for a Taxicab\n",
    "@dataclass\n",
    "class Position:\n",
    "    heading: str\n",
    "    x: int\n",
    "    y: int\n",
    "    visited: set = field(default_factory=set)\n",
    "    double_visit_distance: int = 0\n",
    "\n",
    "    HEADINGS = \"NESW\"\n",
    "\n",
    "    def move(self, steps: int):\n",
    "        \"Move forward `steps` given current heading\"\n",
    "        trip = set()\n",
    "        match self.heading:\n",
    "            case \"N\":\n",
    "                trip = {(self.x, y) for y in range(self.y + 1, self.y + steps + 1)}\n",
    "                self.y += steps\n",
    "            case \"E\":\n",
    "                trip = {(x, self.y) for x in range(self.x + 1, self.x + steps + 1)}\n",
    "                self.x += steps\n",
    "            case \"S\":\n",
    "                trip = {(self.x, y) for y in range(self.y - 1, self.y - steps - 1, -1)}\n",
    "                self.y -= steps\n",
    "            case \"W\":\n",
    "                trip = {(x, self.y) for x in range(self.x - 1, self.x - steps - 1, -1)}\n",
    "                self.x -= steps\n",
    "            case _:\n",
    "                raise ValueError(self.heading)\n",
    "\n",
    "        if not self.double_visit_distance:\n",
    "            overlap = [p for p in trip if p in self.visited]\n",
    "            if overlap:\n",
    "                self.double_visit_distance = abs(overlap[0][0]) + abs(overlap[0][1])\n",
    "            self.visited = self.visited | trip\n",
    "\n",
    "    def turn_right(self):\n",
    "        self.heading = self.HEADINGS[(self.HEADINGS.find(self.heading) + 1) % 4]\n",
    "\n",
    "    def turn_left(self):\n",
    "        self.heading = self.HEADINGS[(self.HEADINGS.find(self.heading) - 1) % 4]\n",
    "\n",
    "\n",
    "directions = [(dir[0], int(dir[1:])) for dir in open(\"2016/1.txt\").read().split(\", \")]\n",
    "\n",
    "pos = Position(\"N\", 0, 0)\n",
    "for turn, steps in directions:\n",
    "    match turn:\n",
    "        case \"R\":\n",
    "            pos.turn_right()\n",
    "        case \"L\":\n",
    "            pos.turn_left()\n",
    "        case _:\n",
    "            raise ValueError(dir)\n",
    "    pos.move(steps)\n",
    "\n",
    "print(f\"Part 1: {abs(pos.x) + abs(pos.y)}\")  # 236\n",
    "print(f\"Part 2: {pos.double_visit_distance}\")  # 182"
   ]
  }
 ],
 "metadata": {
  "interpreter": {
   "hash": "fdd70e6007af8aec0e4ca80217134456f86296d37786ac6018d740f7f134c914"
  },
  "kernelspec": {
   "display_name": "Python 3.10.0 64-bit ('3.10.0': pyenv)",
   "language": "python",
   "name": "python3"
  },
  "language_info": {
   "codemirror_mode": {
    "name": "ipython",
    "version": 3
   },
   "file_extension": ".py",
   "mimetype": "text/x-python",
   "name": "python",
   "nbconvert_exporter": "python",
   "pygments_lexer": "ipython3",
   "version": "3.10.0"
  },
  "orig_nbformat": 4
 },
 "nbformat": 4,
 "nbformat_minor": 2
}
