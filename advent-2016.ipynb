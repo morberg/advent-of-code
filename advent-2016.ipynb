{
 "cells": [
  {
   "cell_type": "code",
   "execution_count": 3,
   "metadata": {},
   "outputs": [],
   "source": [
    "from dataclasses import dataclass, field\n",
    "from typing import Tuple, Iterator\n",
    "from parse import parse\n",
    "from collections import Counter, defaultdict\n",
    "from math import prod\n",
    "import string\n",
    "import hashlib\n",
    "import re\n",
    "import numpy as np\n",
    "\n",
    "import black\n",
    "import jupyter_black\n",
    "\n",
    "\n",
    "jupyter_black.load(lab=True, target_version=black.TargetVersion.PY310)"
   ]
  },
  {
   "cell_type": "markdown",
   "metadata": {},
   "source": []
  },
  {
   "cell_type": "code",
   "execution_count": 32,
   "metadata": {},
   "outputs": [
    {
     "name": "stdout",
     "output_type": "stream",
     "text": [
      "Part 1: 236\n",
      "Part 2: 182\n"
     ]
    }
   ],
   "source": [
    "# Day 1: No Time for a Taxicab\n",
    "@dataclass\n",
    "class Position:\n",
    "    heading: int\n",
    "    x: int\n",
    "    y: int\n",
    "    visited: set = field(default_factory=set)\n",
    "    double_visit_distance: int = 0\n",
    "\n",
    "    # NESW = 0, 1, 2, 3\n",
    "    HEADINGS = ((0, 1), (1, 0), (0, -1), (-1, 0))\n",
    "\n",
    "    def forward(self, steps: int):\n",
    "        \"Move forward `steps` given current heading\"\n",
    "        for _ in range(steps):\n",
    "            self.x = self.x + self.HEADINGS[self.heading][0]\n",
    "            self.y = self.y + self.HEADINGS[self.heading][1]\n",
    "\n",
    "            if not self.double_visit_distance:\n",
    "                if (self.x, self.y) in self.visited:\n",
    "                    self.double_visit_distance = abs(self.x) + abs(self.y)\n",
    "                self.visited.add((self.x, self.y))\n",
    "\n",
    "    def turn_right(self):\n",
    "        self.heading = (self.heading + 1) % 4\n",
    "\n",
    "    def turn_left(self):\n",
    "        self.heading = (self.heading - 1) % 4\n",
    "\n",
    "\n",
    "directions = [(dir[0], int(dir[1:])) for dir in open(\"2016/1.txt\").read().split(\", \")]\n",
    "\n",
    "pos = Position(0, 0, 0)\n",
    "for turn, steps in directions:\n",
    "    if turn == \"R\":\n",
    "        pos.turn_right()\n",
    "    elif turn == \"L\":\n",
    "        pos.turn_left()\n",
    "    else:\n",
    "        raise ValueError(dir)\n",
    "    pos.forward(steps)\n",
    "\n",
    "print(f\"Part 1: {abs(pos.x) + abs(pos.y)}\")  # 236\n",
    "print(f\"Part 2: {pos.double_visit_distance}\")  # 182"
   ]
  },
  {
   "cell_type": "code",
   "execution_count": 21,
   "metadata": {},
   "outputs": [
    {
     "name": "stdout",
     "output_type": "stream",
     "text": [
      "Part 1: 52981\n",
      "Part 1: 74cd2\n"
     ]
    }
   ],
   "source": [
    "# Day 2: Bathroom Security\n",
    "@dataclass\n",
    "class Keypad:\n",
    "    \"\"\"\n",
    "    Implements a keypad where you can move up, down, right, and left. You can't move past\n",
    "    an edge. Represents current value as a string of this object.\n",
    "\n",
    "    Keypad looks like this:\n",
    "\n",
    "    1 2 3\n",
    "    4 5 6\n",
    "    7 8 9\n",
    "    \"\"\"\n",
    "\n",
    "    number: int = 5\n",
    "\n",
    "    def up(self):\n",
    "        if self.number not in (1, 2, 3):\n",
    "            self.number -= 3\n",
    "\n",
    "    def down(self):\n",
    "        if self.number not in (7, 8, 9):\n",
    "            self.number += 3\n",
    "\n",
    "    def left(self):\n",
    "        if self.number not in (1, 4, 7):\n",
    "            self.number -= 1\n",
    "\n",
    "    def right(self):\n",
    "        if self.number not in (3, 6, 9):\n",
    "            self.number += 1\n",
    "\n",
    "    def __str__(self):\n",
    "        return str(self.number)\n",
    "\n",
    "\n",
    "@dataclass\n",
    "class BathroomKeypad:\n",
    "    \"\"\"\n",
    "    Keypad looks like below.\n",
    "\n",
    "        1\n",
    "      2 3 4\n",
    "    5 6 7 8 9\n",
    "      A B C\n",
    "        D\n",
    "    \"\"\"\n",
    "\n",
    "    number: int = 5\n",
    "    # Internal representation of keypad\n",
    "    #       1\n",
    "    #    2  3  4\n",
    "    # 5  6  7  8  9\n",
    "    #   10 11 12\n",
    "    #      13\n",
    "\n",
    "    def up(self):\n",
    "        if self.number not in (5, 2, 1, 4, 9):\n",
    "            if self.number in (3, 13):\n",
    "                self.number -= 2\n",
    "            elif self.number in (6, 7, 8, 10, 11, 12):\n",
    "                self.number -= 4\n",
    "\n",
    "    def down(self):\n",
    "        if self.number not in (5, 10, 13, 12, 9):\n",
    "            if self.number in (1, 11):\n",
    "                self.number += 2\n",
    "            else:\n",
    "                self.number += 4\n",
    "\n",
    "    def left(self):\n",
    "        if self.number not in (1, 2, 5, 10, 13):\n",
    "            self.number -= 1\n",
    "\n",
    "    def right(self):\n",
    "        if self.number not in (1, 4, 9, 12, 13):\n",
    "            self.number += 1\n",
    "\n",
    "    def __str__(self) -> str:\n",
    "        return hex(self.number)[-1]\n",
    "\n",
    "\n",
    "lines = open(\"2016/2.txt\").readlines()\n",
    "\n",
    "a = b = \"\"\n",
    "keypad = Keypad()\n",
    "bathroom = BathroomKeypad()\n",
    "for line in lines:\n",
    "    for move in line:\n",
    "        match move:\n",
    "            case \"U\":\n",
    "                keypad.up()\n",
    "                bathroom.up()\n",
    "            case \"D\":\n",
    "                keypad.down()\n",
    "                bathroom.down()\n",
    "            case \"L\":\n",
    "                keypad.left()\n",
    "                bathroom.left()\n",
    "            case \"R\":\n",
    "                keypad.right()\n",
    "                bathroom.right()\n",
    "    a += str(keypad)\n",
    "    b += str(bathroom)\n",
    "print(f\"Part 1: {a}\")\n",
    "print(f\"Part 1: {b}\")"
   ]
  },
  {
   "cell_type": "code",
   "execution_count": 220,
   "metadata": {},
   "outputs": [
    {
     "name": "stdout",
     "output_type": "stream",
     "text": [
      "Part 1: 869\n",
      "Part 2: 1544\n"
     ]
    }
   ],
   "source": [
    "# Day 3: Squares With Three Sides\n",
    "def possible(sides: Tuple[int, int, int]) -> bool:\n",
    "    \"Returns true if this combination is possible.\"\n",
    "    a, b, c = sorted(sides)\n",
    "    return a + b > c\n",
    "\n",
    "\n",
    "lines = open(\"2016/3.txt\").readlines()\n",
    "lines = [line.strip().split() for line in lines]\n",
    "\n",
    "sides = [tuple(int(side) for side in line) for line in lines]\n",
    "print(f\"Part 1: {sum(possible(side) for side in sides)}\")  # 869\n",
    "\n",
    "sides = [side for i in range(0, len(sides), 3) for side in zip(*sides[i : i + 3])]\n",
    "print(f\"Part 2: {sum(possible(side) for side in sides)}\")  # 1544"
   ]
  },
  {
   "cell_type": "code",
   "execution_count": 238,
   "metadata": {},
   "outputs": [
    {
     "name": "stdout",
     "output_type": "stream",
     "text": [
      "Part 2: 482: northpole-object-storage\n",
      "Part 1: 361724\n"
     ]
    }
   ],
   "source": [
    "# Day 4: Security Through Obscurity\n",
    "def real_room(name: str, checksum: str) -> bool:\n",
    "    cnt = Counter(sorted(name.replace(\"-\", \"\")))\n",
    "    chk = \"\".join([kv[0] for kv in cnt.most_common(5)])\n",
    "    return chk == checksum\n",
    "\n",
    "\n",
    "def decrypt_room(room: str, steps: int) -> str:\n",
    "    az = string.ascii_lowercase\n",
    "    shift = steps % len(az)\n",
    "    tr = str.maketrans(az, az[shift:] + az[:shift])\n",
    "    return room.translate(tr)\n",
    "\n",
    "\n",
    "lines = open(\"2016/4.txt\").readlines()\n",
    "rooms = [parse(\"{}-{:d}[{}]\", line.strip()) for line in lines]\n",
    "id_sum = 0\n",
    "for name, sector, checksum in rooms:\n",
    "    if real_room(name, checksum):\n",
    "        id_sum += sector\n",
    "        # Part 2: Sector ID of North Pole objects\n",
    "        if \"north\" in decrypt_room(name, sector):\n",
    "            print(f\"Part 2: {sector}: {decrypt_room(name, sector)}\")  # 482\n",
    "print(f\"Part 1: {id_sum}\")"
   ]
  },
  {
   "cell_type": "code",
   "execution_count": 2,
   "metadata": {},
   "outputs": [
    {
     "name": "stdout",
     "output_type": "stream",
     "text": [
      "Part 1: 801b56a7\n",
      "Part 2: 424a0197\n"
     ]
    }
   ],
   "source": [
    "# Day 5: How About a Nice Game of Chess\n",
    "# 10 s execution time part 1, 40 s when including part 2\n",
    "base = \"abbhdwsy\"\n",
    "pass1 = []\n",
    "pass2 = [0] * 8\n",
    "index = 0\n",
    "while not all(pass2):\n",
    "    candidate = base + str(index)\n",
    "    hash = hashlib.md5(candidate.encode(\"utf-8\")).hexdigest()\n",
    "    if hash.startswith(\"00000\"):\n",
    "        if len(pass1) < 8:\n",
    "            pass1.append(hash[5])\n",
    "        pos = int(hash[5], base=16)\n",
    "        if pos < 8 and not pass2[pos]:\n",
    "            pass2[pos] = hash[6]\n",
    "    index += 1\n",
    "print(f'Part 1: {\"\".join(pass1[:8])}')\n",
    "print(f'Part 2: {\"\".join(pass2)}')"
   ]
  },
  {
   "cell_type": "code",
   "execution_count": 97,
   "metadata": {},
   "outputs": [
    {
     "name": "stdout",
     "output_type": "stream",
     "text": [
      "Part 1: tsreykjj\n",
      "Part 2: hnfbujie\n"
     ]
    }
   ],
   "source": [
    "# Day 6: Signals and Noise\n",
    "lines = open(\"2016/6.txt\").read()\n",
    "messages = [line.strip() for line in lines.splitlines()]\n",
    "counters = [Counter(column) for column in (zip(*messages))]\n",
    "print(f'Part 1: {\"\".join(c.most_common(1)[0][0] for c in counters)}') # tsreykjj\n",
    "print(f'Part 2: {\"\".join(c.most_common()[-1][0][0] for c in counters)}') # hnfbujie"
   ]
  },
  {
   "cell_type": "code",
   "execution_count": 98,
   "metadata": {},
   "outputs": [
    {
     "name": "stdout",
     "output_type": "stream",
     "text": [
      "Part 1: 115\n",
      "Part 2: 231\n"
     ]
    }
   ],
   "source": [
    "# Day 7: Internet Protocol Version 7\n",
    "def abba(text: str, pos: int) -> bool:\n",
    "    if text[pos] == text[pos + 3] and text[pos + 1] == text[pos + 2]:\n",
    "        if text[pos] != text[pos + 1]:\n",
    "            return True\n",
    "\n",
    "\n",
    "def supports_tls(text: str) -> bool:\n",
    "    abba_outside = False\n",
    "    outside_brackets = True\n",
    "    for i in range(len(text) - 3):\n",
    "        if text[i] == \"[\":\n",
    "            outside_brackets = False\n",
    "            next\n",
    "        if text[i] == \"]\":\n",
    "            outside_brackets = True\n",
    "            next\n",
    "        if abba(text, i):\n",
    "            if outside_brackets:\n",
    "                abba_outside = True\n",
    "            else:\n",
    "                return False\n",
    "    return abba_outside\n",
    "\n",
    "\n",
    "assert supports_tls(\"abba[mnop]qrst\") == True\n",
    "assert supports_tls(\"abcd[bddb]xyyx\") == False\n",
    "assert supports_tls(\"aaaa[qwer]tyui\") == False\n",
    "assert supports_tls(\"ioxxoj[asdfgh]zxcvbn\") == True\n",
    "\n",
    "\n",
    "def aba_outside(text: str) -> str:\n",
    "    supernet = True\n",
    "    for a, b, c in zip(text, text[1:], text[2:]):\n",
    "        if a == \"[\":\n",
    "            supernet = False\n",
    "            next\n",
    "        if a == \"]\":\n",
    "            supernet = True\n",
    "            next\n",
    "        if supernet and a == c and a != b:\n",
    "            yield a + b + a\n",
    "\n",
    "\n",
    "def bab_inside(text: str, candidate: str) -> bool:\n",
    "    hypernet = False\n",
    "    for a, b, c in zip(text, text[1:], text[2:]):\n",
    "        if a == \"[\":\n",
    "            hypernet = True\n",
    "            next\n",
    "        if a == \"]\":\n",
    "            hypernet = False\n",
    "            next\n",
    "        if hypernet and a == c and candidate == b + a + b:\n",
    "            return True\n",
    "\n",
    "\n",
    "def supports_sls(text: str) -> bool:\n",
    "    return any(bab_inside(text, candidate) for candidate in aba_outside(text))\n",
    "\n",
    "\n",
    "assert supports_sls(\"aba[bab]xyz\") == True\n",
    "assert supports_sls(\"xyx[xyx]xyx\") == False\n",
    "assert supports_sls(\"aaa[kek]eke\") == True\n",
    "assert supports_sls(\"zazbz[bzb]cdb\") == True\n",
    "\n",
    "lines = open(\"2016/7.txt\").read()\n",
    "lines = [line for line in lines.splitlines()]\n",
    "print(f\"Part 1: {sum(supports_tls(line) for line in lines)}\")  # 115\n",
    "print(f\"Part 2: {sum(supports_sls(line) for line in lines)}\")  # 231"
   ]
  },
  {
   "cell_type": "code",
   "execution_count": 36,
   "metadata": {},
   "outputs": [
    {
     "name": "stdout",
     "output_type": "stream",
     "text": [
      "Part 1: 123\n",
      "  ####    ########  ######    ##    ##  ######    ########  ######        ####  ######      ######  \n",
      "##    ##  ##        ##    ##  ##    ##  ##    ##        ##  ##    ##        ##  ##    ##  ##        \n",
      "##    ##  ######    ######    ##    ##  ##    ##      ##    ######          ##  ##    ##  ##        \n",
      "########  ##        ##    ##  ##    ##  ######      ##      ##    ##        ##  ######      ####    \n",
      "##    ##  ##        ##    ##  ##    ##  ##        ##        ##    ##  ##    ##  ##              ##  \n",
      "##    ##  ##        ######      ####    ##        ########  ######      ####    ##        ######    \n"
     ]
    }
   ],
   "source": [
    "# Day 8: Two-Factor Authentication\n",
    "lines = open(\"2016/8.txt\").read().splitlines()\n",
    "commands = [[line] + [int(x) for x in re.findall(r\"[\\d]+\", line)] for line in lines]\n",
    "display = [[0] * 50 for _ in range(6)]\n",
    "\n",
    "\n",
    "def turn_on(display, wide: int, tall: int):\n",
    "    for r in range(tall):\n",
    "        for c in range(wide):\n",
    "            display[r][c] = 1\n",
    "    return display\n",
    "\n",
    "\n",
    "def rotate_row(display, r: int, steps: int):\n",
    "    \"Rotate row `r` to the right\"\n",
    "    row = display[r]\n",
    "    display[r] = row[len(row) - steps :] + row[: len(row) - steps]\n",
    "    return display\n",
    "\n",
    "\n",
    "def rotate_column(display, c: int, steps: int):\n",
    "    \"Rotate column `c` down\"\n",
    "    transposed = list(zip(*display))\n",
    "    transposed = rotate_row(transposed, c, steps)\n",
    "    display = list(zip(*transposed))\n",
    "    return [list(row) for row in display]\n",
    "\n",
    "\n",
    "def print_display(display):\n",
    "    for row in range(len(display)):\n",
    "        for col in range(len(display[row])):\n",
    "            if display[row][col]:\n",
    "                print(\"##\", end=\"\")\n",
    "            else:\n",
    "                print(\"  \", end=\"\")\n",
    "        print()\n",
    "\n",
    "\n",
    "for command, a, b in commands:\n",
    "    if command.startswith(\"rect\"):\n",
    "        display = turn_on(display, wide=a, tall=b)\n",
    "    if command.startswith(\"rotate row\"):\n",
    "        display = rotate_row(display, r=a, steps=b)\n",
    "    if command.startswith(\"rotate column\"):\n",
    "        display = rotate_column(display, c=a, steps=b)\n",
    "print(f\"Part 1: {sum(val for line in display for val in line)}\")\n",
    "print_display(display)"
   ]
  },
  {
   "cell_type": "code",
   "execution_count": 5,
   "metadata": {},
   "outputs": [
    {
     "name": "stdout",
     "output_type": "stream",
     "text": [
      "Part 1: 123\n",
      "⬜️🟦🟦⬜️⬜️🟦🟦🟦🟦⬜️🟦🟦🟦⬜️⬜️🟦⬜️⬜️🟦⬜️🟦🟦🟦⬜️⬜️🟦🟦🟦🟦⬜️🟦🟦🟦⬜️⬜️⬜️⬜️🟦🟦⬜️🟦🟦🟦⬜️⬜️⬜️🟦🟦🟦⬜️\n",
      "🟦⬜️⬜️🟦⬜️🟦⬜️⬜️⬜️⬜️🟦⬜️⬜️🟦⬜️🟦⬜️⬜️🟦⬜️🟦⬜️⬜️🟦⬜️⬜️⬜️⬜️🟦⬜️🟦⬜️⬜️🟦⬜️⬜️⬜️⬜️🟦⬜️🟦⬜️⬜️🟦⬜️🟦⬜️⬜️⬜️⬜️\n",
      "🟦⬜️⬜️🟦⬜️🟦🟦🟦⬜️⬜️🟦🟦🟦⬜️⬜️🟦⬜️⬜️🟦⬜️🟦⬜️⬜️🟦⬜️⬜️⬜️🟦⬜️⬜️🟦🟦🟦⬜️⬜️⬜️⬜️⬜️🟦⬜️🟦⬜️⬜️🟦⬜️🟦⬜️⬜️⬜️⬜️\n",
      "🟦🟦🟦🟦⬜️🟦⬜️⬜️⬜️⬜️🟦⬜️⬜️🟦⬜️🟦⬜️⬜️🟦⬜️🟦🟦🟦⬜️⬜️⬜️🟦⬜️⬜️⬜️🟦⬜️⬜️🟦⬜️⬜️⬜️⬜️🟦⬜️🟦🟦🟦⬜️⬜️⬜️🟦🟦⬜️⬜️\n",
      "🟦⬜️⬜️🟦⬜️🟦⬜️⬜️⬜️⬜️🟦⬜️⬜️🟦⬜️🟦⬜️⬜️🟦⬜️🟦⬜️⬜️⬜️⬜️🟦⬜️⬜️⬜️⬜️🟦⬜️⬜️🟦⬜️🟦⬜️⬜️🟦⬜️🟦⬜️⬜️⬜️⬜️⬜️⬜️⬜️🟦⬜️\n",
      "🟦⬜️⬜️🟦⬜️🟦⬜️⬜️⬜️⬜️🟦🟦🟦⬜️⬜️⬜️🟦🟦⬜️⬜️🟦⬜️⬜️⬜️⬜️🟦🟦🟦🟦⬜️🟦🟦🟦⬜️⬜️⬜️🟦🟦⬜️⬜️🟦⬜️⬜️⬜️⬜️🟦🟦🟦⬜️⬜️\n"
     ]
    }
   ],
   "source": [
    "# Day 8 with numpy\n",
    "lines = open(\"2016/8.txt\").read().splitlines()\n",
    "commands = [[line] + [int(x) for x in re.findall(r\"[\\d]+\", line)] for line in lines]\n",
    "\n",
    "display = np.zeros((6, 50), dtype=np.int8)\n",
    "for command, a, b in commands:\n",
    "    if command.startswith(\"rect\"):\n",
    "        display[:b, :a] = 1\n",
    "    if command.startswith(\"rotate row\"):\n",
    "        display[a] = np.roll(display[a], shift=b)\n",
    "    if command.startswith(\"rotate column\"):\n",
    "        display[:, a] = np.roll(display[:, a], shift=b)\n",
    "        # Can also use:\n",
    "        # display.T[a] = np.roll(display.T[a], shift=b)\n",
    "print(f\"Part 1: {np.sum(display)}\")\n",
    "for row in display:\n",
    "    print(\"\".join(\"⬜️🟦\"[point * 2 : point * 2 + 2] for point in row))"
   ]
  },
  {
   "cell_type": "code",
   "execution_count": 68,
   "metadata": {},
   "outputs": [
    {
     "name": "stdout",
     "output_type": "stream",
     "text": [
      "Part 1: 115118\n",
      "Part 2: 11107527530\n"
     ]
    }
   ],
   "source": [
    "# Day 9: Explosives in Cyberspace\n",
    "def text_length(text: str, part_one=False) -> int:\n",
    "    \"Expands first marker if part_one and all markers found otherwise. Returns length after expansion.\"\n",
    "    match = re.search(r\"\\((\\d+)x(\\d+)\\)\", text)\n",
    "    if not match:\n",
    "        return len(text)\n",
    "    length = int(match[1])\n",
    "    repetitions = int(match[2])\n",
    "    head = match.start()\n",
    "    middle = text[match.end() : match.end() + length]\n",
    "    tail = text[match.end() + length :]\n",
    "    if part_one:\n",
    "        return head + length * repetitions + text_length(tail, part_one)\n",
    "    else:\n",
    "        return head + repetitions * text_length(middle) + text_length(tail)\n",
    "\n",
    "\n",
    "text = open(\"2016/9.txt\").read().strip()\n",
    "\n",
    "print(f\"Part 1: {text_length(text, part_one=True)}\")  # 115118\n",
    "print(f\"Part 2: {text_length(text)}\")  # 11107527530"
   ]
  },
  {
   "cell_type": "code",
   "execution_count": 166,
   "metadata": {},
   "outputs": [
    {
     "name": "stdout",
     "output_type": "stream",
     "text": [
      "Part 1: 157\n",
      "Part 2: 1085\n"
     ]
    }
   ],
   "source": [
    "# Day 10: Balance Bots\n",
    "@dataclass\n",
    "class BotRule:\n",
    "    low_dest: str = \"\"\n",
    "    low: int = -1\n",
    "    high_dest: str = \"\"\n",
    "    high: int = -1\n",
    "    low_value: int = -1\n",
    "    high_value: int = -1\n",
    "\n",
    "\n",
    "def parse_lines(lines):\n",
    "    for line in lines:\n",
    "        if p := parse(\"value {:d} goes to bot {:d}\", line):\n",
    "            value, bot = p\n",
    "            bots[bot].append(value)\n",
    "        elif p := parse(\"bot {:d} gives low to {} {:d} and high to {} {:d}\", line):\n",
    "            bot, *rules = p\n",
    "            bot_rules[bot] = BotRule(*rules)\n",
    "        else:\n",
    "            raise ValueError(\"Can not parse\", line)\n",
    "\n",
    "\n",
    "def process_bot(bot: int):\n",
    "    assert len(bots[bot]) == 2\n",
    "    # Update rules\n",
    "    bot_rule = bot_rules[bot]\n",
    "    bot_rule.low_value = min(bots[bot])\n",
    "    bot_rule.high_value = max(bots[bot])\n",
    "    # Give away chips\n",
    "    if bot_rule.low_dest == \"bot\":\n",
    "        bots[bot_rule.low].append(bot_rule.low_value)\n",
    "    elif bot_rule.low_dest == \"output\":\n",
    "        outputs[bot_rule.low].append(bot_rule.low_value)\n",
    "    else:\n",
    "        raise ValueError(\"Bad rule\", bot_rule.low_dest)\n",
    "    if bot_rule.high_dest == \"bot\":\n",
    "        bots[bot_rule.high].append(bot_rule.high_value)\n",
    "    elif bot_rule.high_dest == \"output\":\n",
    "        outputs[bot_rule.high].append(bot_rule.high_value)\n",
    "    else:\n",
    "        raise ValueError(\"Bad rule\", bot_rule.high_dest)\n",
    "\n",
    "    bots[bot] = []\n",
    "\n",
    "\n",
    "def bot_to_process() -> int:\n",
    "    for key, value in bots.items():\n",
    "        if len(value) > 1:\n",
    "            return key\n",
    "    return -1\n",
    "\n",
    "\n",
    "bots = defaultdict(lambda: list())\n",
    "bot_rules = {}\n",
    "outputs = defaultdict(lambda: list())\n",
    "lines = open(\"2016/10.txt\").read().strip().splitlines()\n",
    "parse_lines(lines)\n",
    "\n",
    "while (bot := bot_to_process()) != -1:\n",
    "    process_bot(bot)\n",
    "\n",
    "for bot, rule in bot_rules.items():\n",
    "    if rule.low_value == 17 and rule.high_value == 61:\n",
    "        print(f\"Part 1: {bot}\")  # 157\n",
    "print(f\"Part 2: {prod(outputs[i][0] for i in (0, 1, 2))}\")  # 1085"
   ]
  },
  {
   "cell_type": "code",
   "execution_count": 167,
   "metadata": {},
   "outputs": [
    {
     "data": {
      "text/plain": [
       "'\\nThe first floor contains a promethium generator and a promethium-compatible microchip.\\nThe second floor contains a cobalt generator, a curium generator, a ruthenium generator, and a plutonium generator.\\nThe third floor contains a cobalt-compatible microchip, a curium-compatible microchip, a ruthenium-compatible microchip, and a plutonium-compatible microchip.\\nThe fourth floor contains nothing relevant.\\n'"
      ]
     },
     "execution_count": 167,
     "metadata": {},
     "output_type": "execute_result"
    }
   ],
   "source": [
    "# Day 11: Radioisotope Thermoelectric Generators - Not solved yet\n",
    "\n",
    "\"\"\"\n",
    "The first floor contains a promethium generator and a promethium-compatible microchip.\n",
    "The second floor contains a cobalt generator, a curium generator, a ruthenium generator, and a plutonium generator.\n",
    "The third floor contains a cobalt-compatible microchip, a curium-compatible microchip, a ruthenium-compatible microchip, and a plutonium-compatible microchip.\n",
    "The fourth floor contains nothing relevant.\n",
    "\"\"\""
   ]
  },
  {
   "cell_type": "code",
   "execution_count": 1,
   "metadata": {},
   "outputs": [
    {
     "name": "stdout",
     "output_type": "stream",
     "text": [
      "a: 318003\n"
     ]
    }
   ],
   "source": [
    "# Day 12: Leonardo's Monorail\n",
    "def value(x):\n",
    "    try:\n",
    "        return int(x)\n",
    "    except ValueError:\n",
    "        return reg[x]\n",
    "\n",
    "\n",
    "pc = 0\n",
    "reg = {\"a\": 0, \"b\": 0, \"c\": 0, \"d\": 0}\n",
    "# reg[\"c\"] = 1 # Uncomment to run part 2, takes 30s to finish\n",
    "instructions = open(\"2016/12.txt\").read().strip().splitlines()\n",
    "while pc < len(instructions):\n",
    "    match instructions[pc].split():\n",
    "        case \"cpy\", x, y:\n",
    "            reg[y] = value(x)\n",
    "        case \"inc\", x:\n",
    "            reg[x] += 1\n",
    "        case \"dec\", x:\n",
    "            reg[x] -= 1\n",
    "        case \"jnz\", x, y:\n",
    "            if value(x) != 0:\n",
    "                pc = pc + int(y) - 1\n",
    "    pc += 1\n",
    "print(f'a: {reg[\"a\"]}')  # 318003"
   ]
  },
  {
   "cell_type": "code",
   "execution_count": 54,
   "metadata": {},
   "outputs": [
    {
     "name": "stdout",
     "output_type": "stream",
     "text": [
      "Part 1: 82\n",
      "Part 2: 138\n"
     ]
    }
   ],
   "source": [
    "# Day 13: A Maze of Twisty Little Cubicles\n",
    "from heapq import heappop, heappush\n",
    "from math import inf\n",
    "\n",
    "\n",
    "def is_wall(x: int, y: int, fav: int) -> bool:\n",
    "    num = x * x + 3 * x + 2 * x * y + y + y * y + fav\n",
    "    return bin(num).count(\"1\") % 2\n",
    "\n",
    "\n",
    "def in_bounds(x: int, y: int) -> bool:\n",
    "    return 0 <= x and 0 <= y\n",
    "\n",
    "\n",
    "def valid_paths(x: int, y: int, fav: int):\n",
    "    candidates = [(x - 1, y), (x + 1, y), (x, y - 1), (x, y + 1)]\n",
    "    return [\n",
    "        c for c in candidates if in_bounds(c[0], c[1]) and not is_wall(c[0], c[1], fav)\n",
    "    ]\n",
    "\n",
    "\n",
    "def steps_to(goal_x: int, goal_y: int, fav: int) -> int:\n",
    "    frontier = []\n",
    "    heappush(frontier, (0, (1, 1)))  # We start at 1,1\n",
    "    cost_so_far = defaultdict(lambda: inf)\n",
    "    cost_so_far[(1, 1)] = 0\n",
    "\n",
    "    while frontier:\n",
    "        x, y = heappop(frontier)[1]\n",
    "\n",
    "        if (x, y) == (goal_x, goal_y):\n",
    "            break\n",
    "\n",
    "        for (next_x, next_y) in valid_paths(x, y, fav):\n",
    "            new_cost = cost_so_far[(x, y)] + 1\n",
    "            if new_cost < cost_so_far[(next_x, next_y)]:\n",
    "                cost_so_far[(next_x, next_y)] = new_cost\n",
    "                heappush(frontier, (new_cost, (next_x, next_y)))\n",
    "\n",
    "    return cost_so_far\n",
    "\n",
    "\n",
    "locations = steps_to(31, 39, 1362)\n",
    "\n",
    "print(f\"Part 1: {locations[(31,39)]}\")  # 82\n",
    "print(f\"Part 2: {sum(1 for dist in locations.values() if dist <= 50)}\")"
   ]
  },
  {
   "cell_type": "code",
   "execution_count": null,
   "metadata": {},
   "outputs": [],
   "source": []
  }
 ],
 "metadata": {
  "interpreter": {
   "hash": "fdd70e6007af8aec0e4ca80217134456f86296d37786ac6018d740f7f134c914"
  },
  "kernelspec": {
   "display_name": "Python 3.10.0 64-bit ('3.10.0': pyenv)",
   "language": "python",
   "name": "python3"
  },
  "language_info": {
   "codemirror_mode": {
    "name": "ipython",
    "version": 3
   },
   "file_extension": ".py",
   "mimetype": "text/x-python",
   "name": "python",
   "nbconvert_exporter": "python",
   "pygments_lexer": "ipython3",
   "version": "3.10.0"
  },
  "orig_nbformat": 4
 },
 "nbformat": 4,
 "nbformat_minor": 2
}
