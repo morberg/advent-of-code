{
 "cells": [
  {
   "cell_type": "code",
   "execution_count": 300,
   "metadata": {},
   "outputs": [],
   "source": [
    "from dataclasses import dataclass, field\n",
    "from typing import Tuple\n",
    "from parse import parse\n",
    "from collections import Counter\n",
    "import string\n",
    "import hashlib\n",
    "\n",
    "import black\n",
    "import jupyter_black\n",
    "\n",
    "\n",
    "jupyter_black.load(lab=True, target_version=black.TargetVersion.PY310)"
   ]
  },
  {
   "cell_type": "code",
   "execution_count": 32,
   "metadata": {},
   "outputs": [
    {
     "name": "stdout",
     "output_type": "stream",
     "text": [
      "Part 1: 236\n",
      "Part 2: 182\n"
     ]
    }
   ],
   "source": [
    "# Day 1: No Time for a Taxicab\n",
    "@dataclass\n",
    "class Position:\n",
    "    heading: int\n",
    "    x: int\n",
    "    y: int\n",
    "    visited: set = field(default_factory=set)\n",
    "    double_visit_distance: int = 0\n",
    "\n",
    "    # NESW = 0, 1, 2, 3\n",
    "    HEADINGS = ((0, 1), (1, 0), (0, -1), (-1, 0))\n",
    "\n",
    "    def forward(self, steps: int):\n",
    "        \"Move forward `steps` given current heading\"\n",
    "        for _ in range(steps):\n",
    "            self.x = self.x + self.HEADINGS[self.heading][0]\n",
    "            self.y = self.y + self.HEADINGS[self.heading][1]\n",
    "\n",
    "            if not self.double_visit_distance:\n",
    "                if (self.x, self.y) in self.visited:\n",
    "                    self.double_visit_distance = abs(self.x) + abs(self.y)\n",
    "                self.visited.add((self.x, self.y))\n",
    "\n",
    "    def turn_right(self):\n",
    "        self.heading = (self.heading + 1) % 4\n",
    "\n",
    "    def turn_left(self):\n",
    "        self.heading = (self.heading - 1) % 4\n",
    "\n",
    "\n",
    "directions = [(dir[0], int(dir[1:])) for dir in open(\"2016/1.txt\").read().split(\", \")]\n",
    "\n",
    "pos = Position(0, 0, 0)\n",
    "for turn, steps in directions:\n",
    "    if turn == \"R\":\n",
    "        pos.turn_right()\n",
    "    elif turn == \"L\":\n",
    "        pos.turn_left()\n",
    "    else:\n",
    "        raise ValueError(dir)\n",
    "    pos.forward(steps)\n",
    "\n",
    "print(f\"Part 1: {abs(pos.x) + abs(pos.y)}\")  # 236\n",
    "print(f\"Part 2: {pos.double_visit_distance}\")  # 182"
   ]
  },
  {
   "cell_type": "code",
   "execution_count": 21,
   "metadata": {},
   "outputs": [
    {
     "name": "stdout",
     "output_type": "stream",
     "text": [
      "Part 1: 52981\n",
      "Part 1: 74cd2\n"
     ]
    }
   ],
   "source": [
    "# Day 2: Bathroom Security\n",
    "@dataclass\n",
    "class Keypad:\n",
    "    \"\"\"\n",
    "    Implements a keypad where you can move up, down, right, and left. You can't move past\n",
    "    an edge. Represents current value as a string of this object.\n",
    "\n",
    "    Keypad looks like this:\n",
    "\n",
    "    1 2 3\n",
    "    4 5 6\n",
    "    7 8 9\n",
    "    \"\"\"\n",
    "\n",
    "    number: int = 5\n",
    "\n",
    "    def up(self):\n",
    "        if self.number not in (1, 2, 3):\n",
    "            self.number -= 3\n",
    "\n",
    "    def down(self):\n",
    "        if self.number not in (7, 8, 9):\n",
    "            self.number += 3\n",
    "\n",
    "    def left(self):\n",
    "        if self.number not in (1, 4, 7):\n",
    "            self.number -= 1\n",
    "\n",
    "    def right(self):\n",
    "        if self.number not in (3, 6, 9):\n",
    "            self.number += 1\n",
    "\n",
    "    def __str__(self):\n",
    "        return str(self.number)\n",
    "\n",
    "\n",
    "@dataclass\n",
    "class BathroomKeypad:\n",
    "    \"\"\"\n",
    "    Keypad looks like below.\n",
    "\n",
    "        1\n",
    "      2 3 4\n",
    "    5 6 7 8 9\n",
    "      A B C\n",
    "        D\n",
    "    \"\"\"\n",
    "\n",
    "    number: int = 5\n",
    "    # Internal representation of keypad\n",
    "    #       1\n",
    "    #    2  3  4\n",
    "    # 5  6  7  8  9\n",
    "    #   10 11 12\n",
    "    #      13\n",
    "\n",
    "    def up(self):\n",
    "        if self.number not in (5, 2, 1, 4, 9):\n",
    "            if self.number in (3, 13):\n",
    "                self.number -= 2\n",
    "            elif self.number in (6, 7, 8, 10, 11, 12):\n",
    "                self.number -= 4\n",
    "\n",
    "    def down(self):\n",
    "        if self.number not in (5, 10, 13, 12, 9):\n",
    "            if self.number in (1, 11):\n",
    "                self.number += 2\n",
    "            else:\n",
    "                self.number += 4\n",
    "\n",
    "    def left(self):\n",
    "        if self.number not in (1, 2, 5, 10, 13):\n",
    "            self.number -= 1\n",
    "\n",
    "    def right(self):\n",
    "        if self.number not in (1, 4, 9, 12, 13):\n",
    "            self.number += 1\n",
    "\n",
    "    def __str__(self) -> str:\n",
    "        return hex(self.number)[-1]\n",
    "\n",
    "\n",
    "lines = open(\"2016/2.txt\").readlines()\n",
    "\n",
    "a = b = \"\"\n",
    "keypad = Keypad()\n",
    "bathroom = BathroomKeypad()\n",
    "for line in lines:\n",
    "    for move in line:\n",
    "        match move:\n",
    "            case \"U\":\n",
    "                keypad.up()\n",
    "                bathroom.up()\n",
    "            case \"D\":\n",
    "                keypad.down()\n",
    "                bathroom.down()\n",
    "            case \"L\":\n",
    "                keypad.left()\n",
    "                bathroom.left()\n",
    "            case \"R\":\n",
    "                keypad.right()\n",
    "                bathroom.right()\n",
    "    a += str(keypad)\n",
    "    b += str(bathroom)\n",
    "print(f\"Part 1: {a}\")\n",
    "print(f\"Part 1: {b}\")"
   ]
  },
  {
   "cell_type": "code",
   "execution_count": 220,
   "metadata": {},
   "outputs": [
    {
     "name": "stdout",
     "output_type": "stream",
     "text": [
      "Part 1: 869\n",
      "Part 2: 1544\n"
     ]
    }
   ],
   "source": [
    "# Day 3: Squares With Three Sides\n",
    "def possible(sides: Tuple[int, int, int]) -> bool:\n",
    "    \"Returns true if this combination is possible.\"\n",
    "    a, b, c = sorted(sides)\n",
    "    return a + b > c\n",
    "\n",
    "\n",
    "lines = open(\"2016/3.txt\").readlines()\n",
    "lines = [line.strip().split() for line in lines]\n",
    "\n",
    "sides = [tuple(int(side) for side in line) for line in lines]\n",
    "print(f\"Part 1: {sum(possible(side) for side in sides)}\")  # 869\n",
    "\n",
    "sides = [side for i in range(0, len(sides), 3) for side in zip(*sides[i : i + 3])]\n",
    "print(f\"Part 2: {sum(possible(side) for side in sides)}\")  # 1544"
   ]
  },
  {
   "cell_type": "code",
   "execution_count": 238,
   "metadata": {},
   "outputs": [
    {
     "name": "stdout",
     "output_type": "stream",
     "text": [
      "Part 2: 482: northpole-object-storage\n",
      "Part 1: 361724\n"
     ]
    }
   ],
   "source": [
    "# Day 4: Security Through Obscurity\n",
    "def real_room(name: str, checksum: str) -> bool:\n",
    "    cnt = Counter(sorted(name.replace(\"-\", \"\")))\n",
    "    chk = \"\".join([kv[0] for kv in cnt.most_common(5)])\n",
    "    return chk == checksum\n",
    "\n",
    "\n",
    "def decrypt_room(room: str, steps: int) -> str:\n",
    "    az = string.ascii_lowercase\n",
    "    shift = steps % len(az)\n",
    "    tr = str.maketrans(az, az[shift:] + az[:shift])\n",
    "    return room.translate(tr)\n",
    "\n",
    "\n",
    "lines = open(\"2016/4.txt\").readlines()\n",
    "rooms = [parse(\"{}-{:d}[{}]\", line.strip()) for line in lines]\n",
    "id_sum = 0\n",
    "for name, sector, checksum in rooms:\n",
    "    if real_room(name, checksum):\n",
    "        id_sum += sector\n",
    "        # Part 2: Sector ID of North Pole objects\n",
    "        if \"north\" in decrypt_room(name, sector):\n",
    "            print(f\"Part 2: {sector}: {decrypt_room(name, sector)}\")  # 482\n",
    "print(f\"Part 1: {id_sum}\")"
   ]
  },
  {
   "cell_type": "code",
   "execution_count": 318,
   "metadata": {},
   "outputs": [
    {
     "data": {
      "text/html": [
       "<pre style=\"white-space:pre;overflow-x:auto;line-height:normal;font-family:Menlo,'DejaVu Sans Mono',consolas,'Courier New',monospace\">Part <span style=\"color: #008080; text-decoration-color: #008080; font-weight: bold\">1</span>: 801b56a7\n",
       "</pre>\n"
      ],
      "text/plain": [
       "Part \u001b[1;36m1\u001b[0m: 801b56a7\n"
      ]
     },
     "metadata": {},
     "output_type": "display_data"
    },
    {
     "data": {
      "text/html": [
       "<pre style=\"white-space:pre;overflow-x:auto;line-height:normal;font-family:Menlo,'DejaVu Sans Mono',consolas,'Courier New',monospace\">Part <span style=\"color: #008080; text-decoration-color: #008080; font-weight: bold\">2</span>: 424a0197\n",
       "</pre>\n"
      ],
      "text/plain": [
       "Part \u001b[1;36m2\u001b[0m: 424a0197\n"
      ]
     },
     "metadata": {},
     "output_type": "display_data"
    }
   ],
   "source": [
    "# Day 5: How About a Nice Game of Chess\n",
    "# 10 s execution time part 1, 40 s when including part 2\n",
    "base = \"abbhdwsy\"\n",
    "pass1 = []\n",
    "pass2 = [0] * 8\n",
    "index = 0\n",
    "while not all(pass2):\n",
    "    candidate = base + str(index)\n",
    "    hash = hashlib.md5(candidate.encode(\"utf-8\")).hexdigest()\n",
    "    if hash.startswith(\"00000\"):\n",
    "        if len(pass1) < 8:\n",
    "            pass1.append(hash[5])\n",
    "        pos = int(hash[5], base=16)\n",
    "        if pos < 8 and not pass2[pos]:\n",
    "            pass2[pos] = hash[6]\n",
    "    index += 1\n",
    "print(f'Part 1: {\"\".join(pass1[:8])}')\n",
    "print(f'Part 2: {\"\".join(pass2)}')"
   ]
  },
  {
   "cell_type": "code",
   "execution_count": 316,
   "metadata": {},
   "outputs": [],
   "source": []
  },
  {
   "cell_type": "code",
   "execution_count": null,
   "metadata": {},
   "outputs": [],
   "source": []
  }
 ],
 "metadata": {
  "interpreter": {
   "hash": "fdd70e6007af8aec0e4ca80217134456f86296d37786ac6018d740f7f134c914"
  },
  "kernelspec": {
   "display_name": "Python 3.10.0 64-bit ('3.10.0': pyenv)",
   "language": "python",
   "name": "python3"
  },
  "language_info": {
   "codemirror_mode": {
    "name": "ipython",
    "version": 3
   },
   "file_extension": ".py",
   "mimetype": "text/x-python",
   "name": "python",
   "nbconvert_exporter": "python",
   "pygments_lexer": "ipython3",
   "version": "3.10.0"
  },
  "orig_nbformat": 4
 },
 "nbformat": 4,
 "nbformat_minor": 2
}
