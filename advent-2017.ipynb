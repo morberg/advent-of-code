{
 "cells": [
  {
   "cell_type": "code",
   "execution_count": 118,
   "metadata": {},
   "outputs": [],
   "source": [
    "from itertools import combinations\n",
    "from typing import List\n",
    "\n",
    "\n",
    "import black\n",
    "import jupyter_black\n",
    "\n",
    "jupyter_black.load(lab=True, target_version=black.TargetVersion.PY310)"
   ]
  },
  {
   "cell_type": "code",
   "execution_count": 121,
   "metadata": {},
   "outputs": [
    {
     "name": "stdout",
     "output_type": "stream",
     "text": [
      "Part 1: 1203\n",
      "Part 1: 1146\n"
     ]
    }
   ],
   "source": [
    "# Day 1: Inverse Captcha\n",
    "def match(digits, offset=1):\n",
    "    for i, a in enumerate(digits):\n",
    "        if a == digits[(i + offset) % len(digits)]:\n",
    "            yield a\n",
    "\n",
    "\n",
    "digits = open(\"2017/1.txt\").read().strip()\n",
    "digits = [int(x) for x in digits]\n",
    "\n",
    "print(\"Part 1:\", sum(match(digits)))  # 1203\n",
    "print(\"Part 2:\", sum(match(digits, offset=len(digits) // 2)))  # 1146"
   ]
  },
  {
   "cell_type": "code",
   "execution_count": 147,
   "metadata": {},
   "outputs": [
    {
     "name": "stdout",
     "output_type": "stream",
     "text": [
      "Part 1: 32121\n",
      "Part 2: 197\n"
     ]
    }
   ],
   "source": [
    "# Day 2: Corruption Checksum\n",
    "def evenly_divides(numbers: List[int]) -> int:\n",
    "    for a, b in combinations(numbers, 2):\n",
    "        if a / b == a // b:\n",
    "            return a // b\n",
    "        if b / a == b // a:\n",
    "            return b // a\n",
    "\n",
    "\n",
    "lines = open(\"2017/2.txt\").read().strip().splitlines()\n",
    "spreadsheet = [[int(x) for x in line.split()] for line in lines]\n",
    "print(\"Part 1:\", sum(max(row) - min(row) for row in spreadsheet))\n",
    "print(\"Part 2:\", sum(evenly_divides(row) for row in spreadsheet))"
   ]
  },
  {
   "cell_type": "code",
   "execution_count": null,
   "metadata": {},
   "outputs": [],
   "source": []
  }
 ],
 "metadata": {
  "interpreter": {
   "hash": "fdd70e6007af8aec0e4ca80217134456f86296d37786ac6018d740f7f134c914"
  },
  "kernelspec": {
   "display_name": "Python 3.10.0 64-bit ('3.10.0')",
   "language": "python",
   "name": "python3"
  },
  "language_info": {
   "codemirror_mode": {
    "name": "ipython",
    "version": 3
   },
   "file_extension": ".py",
   "mimetype": "text/x-python",
   "name": "python",
   "nbconvert_exporter": "python",
   "pygments_lexer": "ipython3",
   "version": "3.10.0"
  },
  "orig_nbformat": 4
 },
 "nbformat": 4,
 "nbformat_minor": 2
}
