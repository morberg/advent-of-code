{
 "cells": [
  {
   "cell_type": "code",
   "execution_count": 45,
   "metadata": {},
   "outputs": [],
   "source": [
    "from itertools import combinations, repeat\n",
    "from collections import Counter\n",
    "from typing import List, Tuple, NamedTuple, Optional\n",
    "from __future__ import annotations\n",
    "import re\n",
    "\n",
    "\n",
    "import black\n",
    "import jupyter_black\n",
    "\n",
    "jupyter_black.load(lab=True, target_version=black.TargetVersion.PY310)"
   ]
  },
  {
   "cell_type": "code",
   "execution_count": 121,
   "metadata": {},
   "outputs": [
    {
     "name": "stdout",
     "output_type": "stream",
     "text": [
      "Part 1: 1203\n",
      "Part 1: 1146\n"
     ]
    }
   ],
   "source": [
    "# Day 1: Inverse Captcha\n",
    "def match(digits, offset=1):\n",
    "    for i, a in enumerate(digits):\n",
    "        if a == digits[(i + offset) % len(digits)]:\n",
    "            yield a\n",
    "\n",
    "\n",
    "digits = open(\"2017/1.txt\").read().strip()\n",
    "digits = [int(x) for x in digits]\n",
    "\n",
    "print(\"Part 1:\", sum(match(digits)))  # 1203\n",
    "print(\"Part 2:\", sum(match(digits, offset=len(digits) // 2)))  # 1146"
   ]
  },
  {
   "cell_type": "code",
   "execution_count": 149,
   "metadata": {},
   "outputs": [
    {
     "name": "stdout",
     "output_type": "stream",
     "text": [
      "Part 1: 32121\n",
      "Part 2: 197\n"
     ]
    }
   ],
   "source": [
    "# Day 2: Corruption Checksum\n",
    "def evenly_divides(numbers: List[int]) -> int:\n",
    "    for a, b in combinations(sorted(numbers), 2):\n",
    "        if b / a == b // a:\n",
    "            return b // a\n",
    "\n",
    "\n",
    "lines = open(\"2017/2.txt\").read().strip().splitlines()\n",
    "spreadsheet = [[int(x) for x in line.split()] for line in lines]\n",
    "print(\"Part 1:\", sum(max(row) - min(row) for row in spreadsheet))  # 32121\n",
    "print(\"Part 2:\", sum(evenly_divides(row) for row in spreadsheet))  # 197"
   ]
  },
  {
   "cell_type": "code",
   "execution_count": 41,
   "metadata": {},
   "outputs": [
    {
     "name": "stdout",
     "output_type": "stream",
     "text": [
      "Part 1: 475\n",
      "Part 2: 279138\n"
     ]
    }
   ],
   "source": [
    "# Day 3: Spiral Memory\n",
    "def spiral_move():\n",
    "    #                         58  57\n",
    "    # 37  36  35  34  33  32  31  56\n",
    "    # 38  17  16  15  14  13  30  55\n",
    "    # 39  18   5   4   3  12  29  54\n",
    "    # 40  19   6   1   2  11  28  53\n",
    "    # 41  20   7   8   9  10  27  52\n",
    "    # 42  21  22  23  24  25  26  51\n",
    "    # 43  44  45  46  47  48  49  50\n",
    "\n",
    "    # How to generate:\n",
    "    # r u l l d d r r r (10) u u u l l l l (17) d d d d (21) r r r r r (26) u u u u u (31)\n",
    "    # l l l l l l (37) d d d d d d (43) r r r r r r r (50) u u u u u u u (57)\n",
    "\n",
    "    # 1R, 1U, 2L, 2D, 3R, 3U, 4L, 4D, 5R, 5U, 6L, 6D, 7R, 7U,...\n",
    "\n",
    "    def move(dirs):\n",
    "        nonlocal x, y, steps\n",
    "        for dir in dirs:\n",
    "            for dy, dx in repeat(dir, steps):\n",
    "                x += dx\n",
    "                y += dy\n",
    "                yield (x, y)\n",
    "        steps += 1\n",
    "\n",
    "    right_up = ((1, 0), (0, -1))\n",
    "    left_down = ((-1, 0), (0, 1))\n",
    "    steps = 1\n",
    "    x = y = 0\n",
    "    yield (x, y)\n",
    "    while True:\n",
    "        yield from move(right_up)\n",
    "        yield from move(left_down)\n",
    "\n",
    "\n",
    "def distance(N=277678):\n",
    "    for number, node in enumerate(spiral_move(), 1):\n",
    "        if number == N:\n",
    "            return sum(abs(coord) for coord in node)\n",
    "\n",
    "\n",
    "def value_exceeds(N=277678):\n",
    "    # fmt:off\n",
    "    def neighbors8(point): \n",
    "        \"The eight neighboring squares.\"\n",
    "        x, y = point \n",
    "        return ((x-1, y-1), (x, y-1), (x+1, y-1),\n",
    "                (x-1, y),             (x+1, y),\n",
    "                (x-1, y+1), (x, y+1), (x+1, y+1))\n",
    "    # fmt:on\n",
    "\n",
    "    memory = {}\n",
    "    for node in spiral_move():\n",
    "        number = sum(memory[n] for n in neighbors8(node) if n in memory) or 1\n",
    "        memory[node] = number\n",
    "        if number > N:\n",
    "            return number\n",
    "\n",
    "\n",
    "print(\"Part 1:\", distance())  # 475\n",
    "print(\"Part 2:\", value_exceeds())  # 279138"
   ]
  },
  {
   "cell_type": "code",
   "execution_count": 19,
   "metadata": {},
   "outputs": [
    {
     "name": "stdout",
     "output_type": "stream",
     "text": [
      "Part 1: 386\n",
      "Part 2: 208\n"
     ]
    }
   ],
   "source": [
    "# Day 4: High-Entropy Passphrases\n",
    "def valid1(line):\n",
    "    return len(line.split()) == len(set(line.split()))\n",
    "\n",
    "\n",
    "def valid2(line):\n",
    "    words = [''.join(sorted(x)) for x in line.split()]\n",
    "    return len(words) == len(set(words))\n",
    "\n",
    "\n",
    "lines = open(\"2017/4.txt\").read().strip().splitlines()\n",
    "print(\"Part 1:\", sum(valid1(line) for line in lines)) # 386\n",
    "print(\"Part 2:\", sum(valid2(line) for line in lines)) # 208"
   ]
  },
  {
   "cell_type": "code",
   "execution_count": 47,
   "metadata": {},
   "outputs": [
    {
     "name": "stdout",
     "output_type": "stream",
     "text": [
      "Part 1: 342669\n",
      "Part 2: 25136209\n"
     ]
    }
   ],
   "source": [
    "# Day 5: A Maze of Twisty Trampolines, All Alike\n",
    "def run(instructions, part2=False):\n",
    "    pc = steps = 0\n",
    "    while pc < len(instructions):\n",
    "        offset = instructions[pc]\n",
    "        if part2 and offset >= 3:\n",
    "            instructions[pc] -= 1\n",
    "        else:\n",
    "            instructions[pc] += 1\n",
    "        steps += 1\n",
    "        pc += offset\n",
    "    return steps\n",
    "\n",
    "instructions = open('2017/5.txt').read().strip().splitlines()\n",
    "instructions = [int(x) for x in instructions]\n",
    "\n",
    "print('Part 1:', run(instructions[:])) # 342669\n",
    "print('Part 2:', run(instructions, part2=True)) # 25136209\n"
   ]
  },
  {
   "cell_type": "code",
   "execution_count": 76,
   "metadata": {},
   "outputs": [
    {
     "name": "stdout",
     "output_type": "stream",
     "text": [
      "Part 1: 4074\n",
      "Part 2: 2793\n"
     ]
    }
   ],
   "source": [
    "# Day 6: Memory Reallocation\n",
    "def redistribute(banks: Tuple[int, ...]) -> Tuple[int, ...]:\n",
    "    banks = list(banks)\n",
    "    blocks = max(banks)\n",
    "    index = banks.index(blocks)\n",
    "    banks[index] = 0\n",
    "    while blocks:\n",
    "        index = (index + 1) % len(banks)\n",
    "        banks[index] += 1\n",
    "        blocks -= 1\n",
    "    return tuple(banks)\n",
    "\n",
    "\n",
    "def cycle_unique(banks: Tuple[int, ...]) -> Tuple[int, int]:\n",
    "    seen = {}\n",
    "    cycles = 0\n",
    "    while banks not in seen:\n",
    "        seen[banks] = cycles\n",
    "        banks = redistribute(banks)\n",
    "        cycles += 1\n",
    "    return cycles, seen[banks]\n",
    "\n",
    "\n",
    "banks = tuple(int(x) for x in open(\"2017/6.txt\").read().strip().split())\n",
    "\n",
    "cycles, first_seen = cycle_unique(banks)\n",
    "print(\"Part 1:\", cycles)  # 4074\n",
    "print(\"Part 2:\", cycles - first_seen)  # 2793"
   ]
  },
  {
   "cell_type": "code",
   "execution_count": 83,
   "metadata": {},
   "outputs": [
    {
     "name": "stdout",
     "output_type": "stream",
     "text": [
      "Part 1: hlhomy\n"
     ]
    }
   ],
   "source": [
    "# Day 7: Recursive Circus\n",
    "def parse_lines(lines):\n",
    "    programs = {}\n",
    "    children = {}\n",
    "    parents = {}\n",
    "    # Parse\n",
    "    for line in lines:\n",
    "        items = line.split(\" -> \")\n",
    "        name, weight = items[0].split()\n",
    "        weight = int(re.search(\"\\d+\", weight)[0])\n",
    "        programs[name] = weight\n",
    "        if len(items) > 1:\n",
    "            children[name] = set(items[1].split(\", \"))\n",
    "            for child in children[name]:\n",
    "                parents[child] = name\n",
    "    return programs, children, parents\n",
    "\n",
    "\n",
    "def root(programs, parents):\n",
    "    for program in programs:\n",
    "        if program not in parents:\n",
    "            return program\n",
    "\n",
    "\n",
    "lines = open(\"2017/7.txt\").read().strip().splitlines()\n",
    "# lines = open(\"2017/example-7.txt\").read().strip().splitlines()\n",
    "programs, children, parents = parse_lines(lines)\n",
    "print(\"Part 1:\", root(programs, parents))"
   ]
  },
  {
   "cell_type": "code",
   "execution_count": 87,
   "metadata": {},
   "outputs": [],
   "source": [
    "def branch_weight(node):\n",
    "    if node not in children:\n",
    "        return programs[node]\n",
    "    return sum(branch_weight(child) for child in children[node]) + programs[node]\n",
    "\n",
    "\n",
    "def unbalanced_weight(node):\n",
    "    \"Returns weight of unbalanced branch, 0 if all branches are balanced.\"\n",
    "    branch_weights = Counter(branch_weight(child) for child in children[node])\n",
    "    if len(branch_weights) == 1:\n",
    "        return 0\n",
    "    return branch_weights.most_common()[-1][0]\n",
    "\n",
    "\n",
    "def node_with_weight(weight):\n",
    "    \"Returns node where branch weight equals `weight`\"\n",
    "    for node in programs:\n",
    "        if branch_weight(node) == weight:\n",
    "            return node\n",
    "\n",
    "\n",
    "def unbalanced_node(node):\n",
    "    while unbalanced_weight(node):\n",
    "        node = node_with_weight(unbalanced_weight(node))\n",
    "    return node\n",
    "\n",
    "\n",
    "node = root(programs, parents)\n",
    "node = unbalanced_node(node)"
   ]
  },
  {
   "cell_type": "code",
   "execution_count": 91,
   "metadata": {},
   "outputs": [
    {
     "data": {
      "text/plain": [
       "[1571, 1571, 1571, 1579]"
      ]
     },
     "execution_count": 91,
     "metadata": {},
     "output_type": "execute_result"
    }
   ],
   "source": [
    "[branch_weight(child) for child in children[parents[node]]]"
   ]
  },
  {
   "cell_type": "code",
   "execution_count": 94,
   "metadata": {},
   "outputs": [
    {
     "data": {
      "text/plain": [
       "1505"
      ]
     },
     "execution_count": 94,
     "metadata": {},
     "output_type": "execute_result"
    }
   ],
   "source": [
    "programs[node] - 8"
   ]
  },
  {
   "cell_type": "code",
   "execution_count": null,
   "metadata": {},
   "outputs": [],
   "source": []
  }
 ],
 "metadata": {
  "interpreter": {
   "hash": "fdd70e6007af8aec0e4ca80217134456f86296d37786ac6018d740f7f134c914"
  },
  "kernelspec": {
   "display_name": "Python 3.10.0 64-bit ('3.10.0')",
   "language": "python",
   "name": "python3"
  },
  "language_info": {
   "codemirror_mode": {
    "name": "ipython",
    "version": 3
   },
   "file_extension": ".py",
   "mimetype": "text/x-python",
   "name": "python",
   "nbconvert_exporter": "python",
   "pygments_lexer": "ipython3",
   "version": "3.10.0"
  },
  "orig_nbformat": 4
 },
 "nbformat": 4,
 "nbformat_minor": 2
}
