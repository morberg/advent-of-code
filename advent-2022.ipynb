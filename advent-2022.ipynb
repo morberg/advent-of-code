{
 "cells": [
  {
   "cell_type": "code",
   "execution_count": 1,
   "metadata": {},
   "outputs": [
    {
     "data": {
      "text/html": [
       "\n",
       "                <script type=\"application/javascript\" id=\"jupyter_black\">\n",
       "                (function() {\n",
       "                    if (window.IPython === undefined) {\n",
       "                        return\n",
       "                    }\n",
       "                    var msg = \"WARNING: it looks like you might have loaded \" +\n",
       "                        \"jupyter_black in a non-lab notebook with \" +\n",
       "                        \"`is_lab=True`. Please double check, and if \" +\n",
       "                        \"loading with `%load_ext` please review the README!\"\n",
       "                    console.log(msg)\n",
       "                    alert(msg)\n",
       "                })()\n",
       "                </script>\n",
       "                "
      ],
      "text/plain": [
       "<IPython.core.display.HTML object>"
      ]
     },
     "metadata": {},
     "output_type": "display_data"
    }
   ],
   "source": [
    "import operator as op\n",
    "import re\n",
    "from collections import Counter, defaultdict\n",
    "from functools import cache\n",
    "from itertools import permutations, product\n",
    "from math import gcd, prod\n",
    "\n",
    "import black\n",
    "import jupyter_black\n",
    "from parse import parse\n",
    "\n",
    "jupyter_black.load(lab=True, target_version=black.TargetVersion.PY310)\n",
    "\n",
    "\n",
    "def ints(text: str) -> list[int]:\n",
    "    return [int(x) for x in re.findall(\"-?\\d+\", text)]\n",
    "\n",
    "\n",
    "def first(iterable):\n",
    "    return next(iter(iterable))\n",
    "\n",
    "\n",
    "def data(day: int, parser=str, sep=\"\\n\") -> list:\n",
    "    \"Split the day's input file into sections separated by `sep`, and apply `parser` to each.\"\n",
    "    sections = open(f\"2022/{day}.txt\").read().rstrip().split(sep)\n",
    "    return [parser(section) for section in sections]"
   ]
  },
  {
   "cell_type": "code",
   "execution_count": 2,
   "metadata": {},
   "outputs": [
    {
     "name": "stdout",
     "output_type": "stream",
     "text": [
      "Part 1: 69912\n",
      "Part 2: 208180\n"
     ]
    }
   ],
   "source": [
    "# Day 1: Calorie Counting\n",
    "elves = data(1, ints, \"\\n\\n\")\n",
    "elves = sorted((sum(calories) for calories in elves), reverse=True)\n",
    "print(f\"Part 1: {first(elves)}\")  # 69912\n",
    "print(f\"Part 2: {sum(elves[:3])}\")  # 208180"
   ]
  },
  {
   "cell_type": "code",
   "execution_count": 14,
   "metadata": {},
   "outputs": [
    {
     "name": "stdout",
     "output_type": "stream",
     "text": [
      "Part 1: 11150\n",
      "Part 2: 8295\n"
     ]
    }
   ],
   "source": [
    "# Day 2: Rock Paper Scissors\n",
    "points = {\n",
    "    \"A X\": 3 + 1,\n",
    "    \"A Y\": 6 + 2,\n",
    "    \"A Z\": 0 + 3,\n",
    "    \"B X\": 0 + 1,\n",
    "    \"B Y\": 3 + 2,\n",
    "    \"B Z\": 6 + 3,\n",
    "    \"C X\": 6 + 1,\n",
    "    \"C Y\": 0 + 2,\n",
    "    \"C Z\": 3 + 3,\n",
    "}\n",
    "points2 = {\n",
    "    \"A X\": 0 + 3,\n",
    "    \"A Y\": 3 + 1,\n",
    "    \"A Z\": 6 + 2,\n",
    "    \"B X\": 0 + 1,\n",
    "    \"B Y\": 3 + 2,\n",
    "    \"B Z\": 6 + 3,\n",
    "    \"C X\": 0 + 2,\n",
    "    \"C Y\": 3 + 3,\n",
    "    \"C Z\": 6 + 1,\n",
    "}\n",
    "moves = data(2)\n",
    "print(f\"Part 1: {sum(points[move] for move in moves)}\")  # 11150\n",
    "print(f\"Part 2: {sum(points2[move] for move in moves)}\")  # 8295"
   ]
  },
  {
   "cell_type": "code",
   "execution_count": null,
   "metadata": {},
   "outputs": [],
   "source": []
  }
 ],
 "metadata": {
  "kernelspec": {
   "display_name": "Python 3.10.6 64-bit ('3.10.6')",
   "language": "python",
   "name": "python3"
  },
  "language_info": {
   "codemirror_mode": {
    "name": "ipython",
    "version": 3
   },
   "file_extension": ".py",
   "mimetype": "text/x-python",
   "name": "python",
   "nbconvert_exporter": "python",
   "pygments_lexer": "ipython3",
   "version": "3.10.6"
  },
  "orig_nbformat": 4,
  "vscode": {
   "interpreter": {
    "hash": "5319d5bf7e36bfcf27cea384254d8f85c68ed4d2ed4a006aeced7224a94cc17a"
   }
  }
 },
 "nbformat": 4,
 "nbformat_minor": 2
}
