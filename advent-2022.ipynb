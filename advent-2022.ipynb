{
 "cells": [
  {
   "cell_type": "code",
   "execution_count": 151,
   "metadata": {},
   "outputs": [],
   "source": [
    "from __future__ import annotations\n",
    "\n",
    "import operator as op\n",
    "import re\n",
    "from ast import literal_eval\n",
    "from collections import Counter, defaultdict\n",
    "from dataclasses import dataclass, field\n",
    "from functools import cache, cmp_to_key, reduce\n",
    "from heapq import heappop, heappush\n",
    "from itertools import permutations, product\n",
    "from math import gcd, inf, lcm, prod\n",
    "\n",
    "import black\n",
    "import jupyter_black\n",
    "from more_itertools import chunked, flatten\n",
    "from parse import parse\n",
    "\n",
    "jupyter_black.load(lab=True, target_version=black.TargetVersion.PY310)\n",
    "\n",
    "\n",
    "def ints(text: str) -> list[int]:\n",
    "    return [int(x) for x in re.findall(\"-?\\d+\", text)]\n",
    "\n",
    "\n",
    "def first(iterable):\n",
    "    return next(iter(iterable))\n",
    "\n",
    "\n",
    "def data(day: int, parser=str, sep=\"\\n\", example=False) -> list:\n",
    "    \"Split the day's input file into sections separated by `sep`, and apply `parser` to each.\"\n",
    "    filename = f\"2022/{day}-example.txt\" if example else f\"2022/{day}.txt\"\n",
    "    sections = open(filename).read().rstrip().split(sep)\n",
    "    return [parser(section) for section in sections]"
   ]
  },
  {
   "cell_type": "code",
   "execution_count": 2,
   "metadata": {},
   "outputs": [
    {
     "name": "stdout",
     "output_type": "stream",
     "text": [
      "Part 1: 69912\n",
      "Part 2: 208180\n"
     ]
    }
   ],
   "source": [
    "# Day 1: Calorie Counting\n",
    "elves = data(1, ints, \"\\n\\n\")\n",
    "elves = sorted((sum(calories) for calories in elves), reverse=True)\n",
    "print(f\"Part 1: {first(elves)}\")  # 69912\n",
    "print(f\"Part 2: {sum(elves[:3])}\")  # 208180"
   ]
  },
  {
   "cell_type": "code",
   "execution_count": 16,
   "metadata": {},
   "outputs": [
    {
     "name": "stdout",
     "output_type": "stream",
     "text": [
      "Part 1: 11150\n",
      "Part 2: 8295\n"
     ]
    }
   ],
   "source": [
    "# Day 2: Rock Paper Scissors\n",
    "points = {\n",
    "    \"A X\": 3 + 1,\n",
    "    \"A Y\": 6 + 2,\n",
    "    \"A Z\": 0 + 3,\n",
    "    \"B X\": 0 + 1,\n",
    "    \"B Y\": 3 + 2,\n",
    "    \"B Z\": 6 + 3,\n",
    "    \"C X\": 6 + 1,\n",
    "    \"C Y\": 0 + 2,\n",
    "    \"C Z\": 3 + 3,\n",
    "}\n",
    "points2 = {\n",
    "    \"A X\": 0 + 3,\n",
    "    \"A Y\": 3 + 1,\n",
    "    \"A Z\": 6 + 2,\n",
    "    \"B X\": 0 + 1,\n",
    "    \"B Y\": 3 + 2,\n",
    "    \"B Z\": 6 + 3,\n",
    "    \"C X\": 0 + 2,\n",
    "    \"C Y\": 3 + 3,\n",
    "    \"C Z\": 6 + 1,\n",
    "}\n",
    "moves = data(2)\n",
    "print(f\"Part 1: {sum(points[move] for move in moves)}\")  # 11150\n",
    "print(f\"Part 2: {sum(points2[move] for move in moves)}\")  # 8295"
   ]
  },
  {
   "cell_type": "code",
   "execution_count": 88,
   "metadata": {},
   "outputs": [
    {
     "name": "stdout",
     "output_type": "stream",
     "text": [
      "Part 1: 7428\n",
      "Part 2: 2650\n"
     ]
    }
   ],
   "source": [
    "# Day 3: Rucksack Reorganization\n",
    "def common_item(rucksack):\n",
    "    a = set(rucksack[: len(rucksack) // 2])\n",
    "    b = set(rucksack[len(rucksack) // 2 :])\n",
    "    return first(a & b)\n",
    "\n",
    "\n",
    "def priority(char: str):\n",
    "    if char.islower():\n",
    "        return ord(char) - ord(\"a\") + 1\n",
    "    return ord(char) - ord(\"A\") + 27\n",
    "\n",
    "\n",
    "def group_common(group):\n",
    "    a, b, c = map(set, group)\n",
    "    return first(a & b & c)\n",
    "\n",
    "\n",
    "rucksacks = data(3)\n",
    "print(f\"Part 1: {sum(priority(common_item(rucksack)) for rucksack in rucksacks)}\")\n",
    "print(\n",
    "    f\"Part 2: {sum(priority(group_common(group)) for group in chunked(rucksacks, 3))}\"\n",
    ")"
   ]
  },
  {
   "cell_type": "code",
   "execution_count": 84,
   "metadata": {},
   "outputs": [
    {
     "name": "stdout",
     "output_type": "stream",
     "text": [
      "Part 1: 540\n",
      "Part 2: 872\n"
     ]
    }
   ],
   "source": [
    "# Day 4: Camp Cleanup\n",
    "def fully_contains(a_low, a_high, b_low, b_high):\n",
    "    if a_low <= b_low <= b_high <= a_high:\n",
    "        return True\n",
    "    if b_low <= a_low <= a_high <= b_high:\n",
    "        return True\n",
    "    return False\n",
    "\n",
    "\n",
    "def overlaps(a_low, a_high, b_low, b_high):\n",
    "    if a_high < b_low:\n",
    "        return False\n",
    "    if b_high < a_low:\n",
    "        return False\n",
    "    return True\n",
    "\n",
    "\n",
    "def positive_ints(text):\n",
    "    return [int(x) for x in re.findall(\"\\d+\", text)]\n",
    "\n",
    "\n",
    "ranges = data(4, positive_ints)\n",
    "print(f\"Part 1: {sum(fully_contains(*ids) for ids in ranges)}\")  # 540\n",
    "print(f\"Part 2: {sum(overlaps(*ids) for ids in ranges)}\")  # 872"
   ]
  },
  {
   "cell_type": "code",
   "execution_count": 233,
   "metadata": {},
   "outputs": [
    {
     "name": "stdout",
     "output_type": "stream",
     "text": [
      "Part 1: TLFGBZHCN\n",
      "Part 2: QRQFHFWCL\n"
     ]
    }
   ],
   "source": [
    "# Day 5: Supply Stacks\n",
    "def initial_stacks(stack_input):\n",
    "    stack_input = stack_input.splitlines()\n",
    "    number_of_stacks = int(max(stack_input[-1]))\n",
    "    stacks = [[] for _ in range(number_of_stacks)]\n",
    "    for line in stack_input:\n",
    "        # Every 4th character is a crate\n",
    "        for stack, crate in enumerate(line[1::4]):\n",
    "            if crate.isupper():\n",
    "                stacks[stack].append(crate)\n",
    "    for stack in stacks:\n",
    "        stack.reverse()\n",
    "    return stacks\n",
    "\n",
    "\n",
    "def move_crates(number_to_move, start, dest):\n",
    "    for _ in range(number_to_move):\n",
    "        crate = stacks[start - 1].pop()\n",
    "        stacks[dest - 1].append(crate)\n",
    "\n",
    "\n",
    "def move_multiple(number_to_move, start, dest):\n",
    "    left_behind, crates_to_move = (\n",
    "        stacks[start - 1][:-number_to_move],\n",
    "        stacks[start - 1][-number_to_move:],\n",
    "    )\n",
    "    stacks[start - 1] = left_behind\n",
    "    stacks[dest - 1] += crates_to_move\n",
    "\n",
    "\n",
    "stack_input, moves = data(5, sep=\"\\n\\n\")\n",
    "moves = [ints(line) for line in moves.splitlines()]\n",
    "\n",
    "stacks = initial_stacks(stack_input)\n",
    "for move in moves:\n",
    "    move_crates(*move)\n",
    "print(f'Part 1: {\"\".join(stack[-1] for stack in stacks)}')  # TLFGBZHCN\n",
    "\n",
    "stacks = initial_stacks(stack_input)\n",
    "for move in moves:\n",
    "    move_multiple(*move)\n",
    "print(f'Part 2: {\"\".join(stack[-1] for stack in stacks)}')  # QRQFHFWCL"
   ]
  },
  {
   "cell_type": "code",
   "execution_count": 264,
   "metadata": {},
   "outputs": [
    {
     "name": "stdout",
     "output_type": "stream",
     "text": [
      "Part 1: 1566\n",
      "Part 2: 2265\n"
     ]
    }
   ],
   "source": [
    "# Day 6: Tuning Trouble\n",
    "def start_of_block(message, window=4):\n",
    "    i = 0\n",
    "    while len(set(message[i : i + window])) < window:\n",
    "        i += 1\n",
    "    return i + window\n",
    "\n",
    "\n",
    "message = data(6)[0]\n",
    "print(f\"Part 1: {start_of_block(message)}\")  # 1566\n",
    "print(f\"Part 2: {start_of_block(message, window=14)}\")  # 2265"
   ]
  },
  {
   "cell_type": "code",
   "execution_count": 25,
   "metadata": {},
   "outputs": [
    {
     "name": "stdout",
     "output_type": "stream",
     "text": [
      "Part 1: 1243729\n",
      "Part 2: 4443914\n"
     ]
    }
   ],
   "source": [
    "# Day 7: No Space Left On Device\n",
    "@dataclass\n",
    "class Node:\n",
    "    name: str\n",
    "    parent: Node = None\n",
    "    size: int = 0\n",
    "    children: list[Node] = field(default_factory=list)\n",
    "\n",
    "    def total_size(self):\n",
    "        \"Size of Node and all children.\"\n",
    "        return sum(child.total_size() for child in self.children) + self.size\n",
    "\n",
    "    def dir_sizes(self):\n",
    "        for child in self.children:\n",
    "            if child.children:\n",
    "                # child is a directory\n",
    "                yield from child.dir_sizes()\n",
    "                yield child.total_size()\n",
    "\n",
    "\n",
    "def create_tree(lines):\n",
    "    root = Node(\"/\")\n",
    "    current = root\n",
    "    for line in lines:\n",
    "        match line.split():\n",
    "            case \"$\", \"cd\", \"/\":\n",
    "                current = root\n",
    "            case \"$\", \"cd\", \"..\":\n",
    "                current = current.parent\n",
    "            case \"$\", \"cd\", dir:\n",
    "                current = first(\n",
    "                    child for child in current.children if child.name == dir\n",
    "                )\n",
    "            case \"$\", \"ls\":\n",
    "                pass\n",
    "            case \"dir\", dir:\n",
    "                current.children.append(Node(dir, current))\n",
    "            case size, file:\n",
    "                current.children.append(Node(file, current, int(size)))\n",
    "    return root\n",
    "\n",
    "\n",
    "lines = data(7)\n",
    "root = create_tree(lines)\n",
    "print(f\"Part 1: {sum(size for size in root.dir_sizes() if size <= 100_000)}\")  # 1243729\n",
    "\n",
    "TOTAL_SPACE = 70000000\n",
    "NEEDED = 30000000\n",
    "min_delete = NEEDED - TOTAL_SPACE + root.total_size()\n",
    "print(\n",
    "    f\"Part 2: {min(size for size in root.dir_sizes() if size >= min_delete)}\"\n",
    ")  # 4443914"
   ]
  },
  {
   "cell_type": "code",
   "execution_count": 99,
   "metadata": {},
   "outputs": [
    {
     "name": "stdout",
     "output_type": "stream",
     "text": [
      "Part 1: 1820\n",
      "Part 2: 385112\n"
     ]
    }
   ],
   "source": [
    "# Day 8: Treetop Tree House\n",
    "def tree_line(row, col, dr, dc):\n",
    "    \"Return all tree positions to the edge in direction dr, dc\"\n",
    "    row += dr\n",
    "    col += dc\n",
    "    while (row, col) in trees:\n",
    "        yield row, col\n",
    "        row += dr\n",
    "        col += dc\n",
    "\n",
    "\n",
    "def visible(row, col):\n",
    "    return any(\n",
    "        all(trees[(r, c)] < trees[row, col] for r, c in tree_line(row, col, *dir))\n",
    "        for dir in DIRECTIONS\n",
    "    )\n",
    "\n",
    "\n",
    "def scenic_score(row, col):\n",
    "    total_score = 1\n",
    "    for dir in DIRECTIONS:\n",
    "        score = 0\n",
    "        for r, c in tree_line(row, col, *dir):\n",
    "            score += 1\n",
    "            if trees[(r, c)] >= trees[(row, col)]:\n",
    "                break\n",
    "        total_score *= max(\n",
    "            score, 1\n",
    "        )  # Edge trees will have score 0 in some direction(s), make sure they still count\n",
    "    return total_score\n",
    "\n",
    "\n",
    "DIRECTIONS = ((0, 1), (0, -1), (1, 0), (-1, 0))\n",
    "lines = data(8)\n",
    "trees = {\n",
    "    (row, col): int(num)\n",
    "    for row, line in enumerate(lines)\n",
    "    for col, num in enumerate(line)\n",
    "}\n",
    "\n",
    "print(f\"Part 1: {sum(visible(*tree) for tree in trees)}\")  # 1820\n",
    "print(f\"Part 2: {max(scenic_score(*tree) for tree in trees)}\")  # 385112"
   ]
  },
  {
   "cell_type": "code",
   "execution_count": 222,
   "metadata": {},
   "outputs": [
    {
     "name": "stdout",
     "output_type": "stream",
     "text": [
      "Part 1: 5695\n",
      "Part 2: 2434\n"
     ]
    }
   ],
   "source": [
    "# Day 9: Rope Bridge\n",
    "def parse_line(line):\n",
    "    move, steps = line.split()\n",
    "    steps = int(steps)\n",
    "    return move, steps\n",
    "\n",
    "\n",
    "def touching(r1, c1, r2, c2):\n",
    "    adjacent = {\n",
    "        (r, c) for r, c in product(range(r1 - 1, r1 + 2), range(c1 - 1, c1 + 2))\n",
    "    }\n",
    "    return (r2, c2) in adjacent\n",
    "\n",
    "\n",
    "def move_knot(row, col, knot_row, knot_col):\n",
    "    if row > knot_row:\n",
    "        knot_row += 1  # Down\n",
    "    elif row < knot_row:\n",
    "        knot_row -= 1  # Up\n",
    "    if col > knot_col:\n",
    "        knot_col += 1  # Right\n",
    "    elif col < knot_col:\n",
    "        knot_col -= 1  # Left\n",
    "    return knot_row, knot_col\n",
    "\n",
    "\n",
    "def move_rope(rope, moves):\n",
    "    row, col = (0, 0)\n",
    "    visited = {rope[-1]}\n",
    "    for move, steps in moves:\n",
    "        for _ in range(steps):\n",
    "            row += MOVES[move][0]\n",
    "            col += MOVES[move][1]\n",
    "            prev = (row, col)  # Head\n",
    "            new_rope = []\n",
    "            for knot in rope:\n",
    "                if not touching(*prev, *knot):\n",
    "                    knot = move_knot(*prev, *knot)\n",
    "                new_rope.append(knot)\n",
    "                prev = knot\n",
    "            rope = new_rope\n",
    "            visited.add(rope[-1])  # Tail\n",
    "    return len(visited)\n",
    "\n",
    "\n",
    "MOVES = {\"D\": (1, 0), \"U\": (-1, 0), \"L\": (0, -1), \"R\": (0, 1)}  # dr, dc\n",
    "moves = data(9, parse_line)\n",
    "\n",
    "knots = [(0, 0)]\n",
    "print(f\"Part 1: {move_rope(knots, moves)}\")  # 5695\n",
    "knots = [(0, 0) for _ in range(9)]\n",
    "print(f\"Part 2: {move_rope(knots, moves)}\")  # 2434"
   ]
  },
  {
   "cell_type": "code",
   "execution_count": 28,
   "metadata": {},
   "outputs": [
    {
     "name": "stdout",
     "output_type": "stream",
     "text": [
      "Part 1: 14340\n",
      "Part 2:\n",
      "\n",
      "⬛⬛⬛⬜⬜⬜⬛⬛⬜⬜⬛⬛⬛⬜⬜⬜⬜⬛⬛⬜⬜⬛⬛⬜⬜⬛⬛⬛⬜⬜⬛⬜⬜⬛⬜⬛⬛⬛⬜⬜\n",
      "⬛⬜⬜⬛⬜⬛⬜⬜⬛⬜⬛⬜⬜⬛⬜⬜⬜⬜⬛⬜⬛⬜⬜⬛⬜⬛⬜⬜⬛⬜⬛⬜⬜⬛⬜⬛⬜⬜⬛⬜\n",
      "⬛⬜⬜⬛⬜⬛⬜⬜⬛⬜⬛⬜⬜⬛⬜⬜⬜⬜⬛⬜⬛⬜⬜⬜⬜⬛⬛⬛⬜⬜⬛⬛⬛⬛⬜⬛⬜⬜⬛⬜\n",
      "⬛⬛⬛⬜⬜⬛⬛⬛⬛⬜⬛⬛⬛⬜⬜⬜⬜⬜⬛⬜⬛⬜⬜⬜⬜⬛⬜⬜⬛⬜⬛⬜⬜⬛⬜⬛⬛⬛⬜⬜\n",
      "⬛⬜⬜⬜⬜⬛⬜⬜⬛⬜⬛⬜⬜⬜⬜⬛⬜⬜⬛⬜⬛⬜⬜⬛⬜⬛⬜⬜⬛⬜⬛⬜⬜⬛⬜⬛⬜⬜⬜⬜\n",
      "⬛⬜⬜⬜⬜⬛⬜⬜⬛⬜⬛⬜⬜⬜⬜⬜⬛⬛⬜⬜⬜⬛⬛⬜⬜⬛⬛⬛⬜⬜⬛⬜⬜⬛⬜⬛⬜⬜⬜⬜"
     ]
    }
   ],
   "source": [
    "# Day 10: Cathode-Ray Tube\n",
    "lines = data(10, str.split)\n",
    "xs = [0, 1]\n",
    "for line in lines:\n",
    "    xs.append(xs[-1])\n",
    "    match line:\n",
    "        case \"addx\", x:\n",
    "            xs.append(xs[-1] + int(x))\n",
    "cycles = range(20, 220 + 1, 40)\n",
    "print(f\"Part 1: {sum(cycle * xs[cycle] for cycle in cycles)}\")  # 14340\n",
    "\n",
    "print(\"Part 2:\")  # PAPJCBHP\n",
    "for pixel, sprite in enumerate(xs[1:-1]):\n",
    "    if pixel % 40 == 0:\n",
    "        print()\n",
    "    print(\"⬜️⬛️\"[(sprite - 1 <= pixel % 40 <= sprite + 1) * 2], end=\"\")"
   ]
  },
  {
   "cell_type": "code",
   "execution_count": 61,
   "metadata": {},
   "outputs": [
    {
     "name": "stdout",
     "output_type": "stream",
     "text": [
      "Part 1: 61005\n",
      "Part 2: 20567144694\n"
     ]
    }
   ],
   "source": [
    "# Day 11: Monkey in the Middle\n",
    "class Monkey:\n",
    "    def __init__(self, chunk):\n",
    "        _, items, operation, divisor, if_true, if_false = chunk\n",
    "        self.items = ints(items)\n",
    "        self.operation = operation.split(\" = \")[-1]\n",
    "        self.divisor = int(divisor.split()[-1])\n",
    "        self.target_monkeys = [int(if_false[-1]), int(if_true[-1])]\n",
    "        self.inspections = 0\n",
    "\n",
    "\n",
    "def monkey_business(monkeys, rounds=20, part1=True):\n",
    "    all_divisors = prod(m.divisor for m in monkeys)\n",
    "    for _ in range(rounds):\n",
    "        for monkey in monkeys:\n",
    "            while monkey.items:\n",
    "                monkey.inspections += 1\n",
    "                old = monkey.items.pop(0)\n",
    "                worry_level = eval(monkey.operation)\n",
    "                worry_level %= all_divisors\n",
    "                if part1:\n",
    "                    worry_level //= 3\n",
    "                target = monkey.target_monkeys[worry_level % monkey.divisor == 0]\n",
    "                monkeys[target].items.append(worry_level)\n",
    "    inspections = sorted(m.inspections for m in monkeys)\n",
    "    return inspections[-1] * inspections[-2]\n",
    "\n",
    "\n",
    "chunks = data(11, str.splitlines, sep=\"\\n\\n\", example=False)\n",
    "monkeys = [Monkey(chunk) for chunk in chunks]\n",
    "print(f\"Part 1: {monkey_business(monkeys)}\")  # 61005\n",
    "monkeys = [Monkey(chunk) for chunk in chunks]\n",
    "print(f\"Part 2: {monkey_business(monkeys, rounds=10_000, part1=False)}\")  # 20567144694"
   ]
  },
  {
   "cell_type": "code",
   "execution_count": 64,
   "metadata": {},
   "outputs": [
    {
     "name": "stdout",
     "output_type": "stream",
     "text": [
      "Part 1: 412\n",
      "Part 2: 402\n"
     ]
    }
   ],
   "source": [
    "# Day 12: Hill Climbing Algorithm\n",
    "def a_star(starts, goal):\n",
    "    \"\"\"\n",
    "    A* search from all `start` states in `starts` to `goal`.\n",
    "    Need to provide functions: `heuristic`, `cost`, and `moves`\n",
    "    \"\"\"\n",
    "    frontier = []\n",
    "    cost_so_far = defaultdict(lambda: inf)\n",
    "    for start in starts:\n",
    "        cost_so_far[start] = 0\n",
    "        heappush(frontier, (0, start))\n",
    "\n",
    "    while frontier:\n",
    "        current = heappop(frontier)[1]\n",
    "        if heuristic(current, goal) == 0:\n",
    "            break\n",
    "        for next in moves(current):\n",
    "            new_cost = cost_so_far[current] + cost(current, next)\n",
    "            if new_cost < cost_so_far[next]:\n",
    "                cost_so_far[next] = new_cost\n",
    "                priority = new_cost + heuristic(next, goal)\n",
    "                heappush(frontier, (priority, next))\n",
    "\n",
    "    return cost_so_far[goal]\n",
    "\n",
    "\n",
    "def heuristic(current, goal) -> float:\n",
    "    \"Minimum estimation of cost to get from current to goal. Also used to determine when we have reached goal (heuristic returns 0).\"\n",
    "    # This implements cab distance from a to goal. State is (row, col) for a point.\n",
    "    (r1, c1) = current\n",
    "    (r2, c2) = goal\n",
    "    return abs(r1 - r2) + abs(c1 - c2)\n",
    "\n",
    "\n",
    "def cost(current, next):\n",
    "    return 1\n",
    "\n",
    "\n",
    "def moves(current):\n",
    "    row, col = current\n",
    "    candidates = [(row + 1, col), (row - 1, col), (row, col + 1), (row, col - 1)]\n",
    "    return [pos for pos in candidates if pos in grid and grid[pos] <= grid[current] + 1]\n",
    "\n",
    "\n",
    "def parse_lines(lines, start=(0, 0), goal=(0, 0)):\n",
    "    grid = {}\n",
    "    for row, line in enumerate(lines):\n",
    "        for col, char in enumerate(line):\n",
    "            if char == \"S\":\n",
    "                start = (row, col)\n",
    "                char = \"a\"\n",
    "            if char == \"E\":\n",
    "                goal = (row, col)\n",
    "                char = \"z\"\n",
    "            grid[(row, col)] = ord(char) - ord(\"a\")\n",
    "    return grid, start, goal\n",
    "\n",
    "\n",
    "lines = data(12)\n",
    "grid, start, goal = parse_lines(lines)\n",
    "\n",
    "print(f\"Part 1: {a_star([start], goal)}\")  # 412\n",
    "starts = [pos for pos in grid if grid[pos] == 0]\n",
    "print(f\"Part 2: {a_star(starts, goal)}\")  # 402"
   ]
  },
  {
   "cell_type": "code",
   "execution_count": 153,
   "metadata": {},
   "outputs": [
    {
     "name": "stdout",
     "output_type": "stream",
     "text": [
      "Part 1: 5555\n",
      "Part 2: 22852\n"
     ]
    }
   ],
   "source": [
    "# Day 13: Distress signal\n",
    "def parse_pairs(text):\n",
    "    left, right = text.splitlines()\n",
    "    left = literal_eval(left)\n",
    "    right = literal_eval(right)\n",
    "    return left, right\n",
    "\n",
    "\n",
    "def correct_order(left, right):\n",
    "    if isinstance(left, int) and isinstance(right, int):\n",
    "        if left < right:\n",
    "            return -1\n",
    "        elif left > right:\n",
    "            return 1\n",
    "        else:\n",
    "            return 0\n",
    "    if isinstance(left, list) and isinstance(right, list):\n",
    "        for left_, right_ in zip(left, right):\n",
    "            if correct_order(left_, right_) != 0:\n",
    "                return correct_order(left_, right_)\n",
    "        return correct_order(len(left), len(right))\n",
    "    if isinstance(left, int) and isinstance(right, list):\n",
    "        return correct_order([left], right)\n",
    "    if isinstance(left, list) and isinstance(right, int):\n",
    "        return correct_order(left, [right])\n",
    "\n",
    "\n",
    "def pairs_in_correct_order(pairs):\n",
    "    result = 0\n",
    "    for index, (left, right) in enumerate(pairs, 1):\n",
    "        if correct_order(left, right) == -1:\n",
    "            result += index\n",
    "    return result\n",
    "\n",
    "\n",
    "def decoder_key(pairs, first_divider=[[2]], second_divider=[[6]]):\n",
    "    def packet_index(divider):\n",
    "        return packets.index(divider) + 1\n",
    "\n",
    "    packets = list(flatten(pairs))\n",
    "    packets.extend([first_divider, second_divider])\n",
    "    packets.sort(key=cmp_to_key(correct_order))\n",
    "    return packet_index(first_divider) * packet_index(second_divider)\n",
    "\n",
    "\n",
    "pairs = data(13, parse_pairs, sep=\"\\n\\n\")\n",
    "print(f\"Part 1: {pairs_in_correct_order(pairs)}\")  # 5555\n",
    "print(f\"Part 2: {decoder_key(pairs)}\")  # 22852"
   ]
  },
  {
   "cell_type": "code",
   "execution_count": 270,
   "metadata": {},
   "outputs": [
    {
     "name": "stdout",
     "output_type": "stream",
     "text": [
      "Part 1: 858\n",
      "Part 2: 26845\n"
     ]
    }
   ],
   "source": [
    "def get_rocks(coords):\n",
    "    # Draw a line between coordinates in line\n",
    "    rocks = set()\n",
    "    prev_x, prev_y = 0, 0\n",
    "    for (x, y) in chunked(coords, 2):\n",
    "        if (prev_x, prev_y) == (0, 0):\n",
    "            rocks.add((x, y))\n",
    "        else:\n",
    "            start_x = min(x, prev_x)\n",
    "            end_x = max(x, prev_x) + 1\n",
    "            start_y = min(y, prev_y)\n",
    "            end_y = max(y, prev_y) + 1\n",
    "            # Add all rocks from current x,y to prev_x, prev_y\n",
    "            for x_, y_ in product(range(start_x, end_x), range(start_y, end_y)):\n",
    "                # print(x_, y_)\n",
    "                rocks.add((x_, y_))\n",
    "        prev_x, prev_y = x, y\n",
    "    return rocks\n",
    "\n",
    "\n",
    "def next_sand_position(x, y):\n",
    "    if (x, y + 1) not in grid:\n",
    "        return x, y + 1  # Down\n",
    "    elif (x - 1, y + 1) not in grid:\n",
    "        return x - 1, y + 1  # Left diagonal\n",
    "    elif (x + 1, y + 1) not in grid:\n",
    "        return x + 1, y + 1  # Right diagonal\n",
    "    else:\n",
    "        return x, y  # Can't flow further, rest here\n",
    "\n",
    "\n",
    "def add_grain(start=(500, 0), max_y=0, part2=False):\n",
    "    current = next_sand_position(*start)\n",
    "    while True:\n",
    "        if current == next_sand_position(*current):\n",
    "            grid[current] = SAND\n",
    "            if current == start:\n",
    "                return False\n",
    "            return True\n",
    "        current = next_sand_position(*current)\n",
    "        if current[1] > max_y:\n",
    "            if part2:\n",
    "                grid[current] = SAND\n",
    "                return True\n",
    "            return False\n",
    "\n",
    "\n",
    "lines = data(14, ints)\n",
    "ROCK, SAND = 1, 2\n",
    "grid = {coord: ROCK for line in lines for coord in get_rocks(line)}\n",
    "max_y = max(grid, key=lambda coord: coord[1])[1]\n",
    "while add_grain(max_y=max_y):\n",
    "    pass\n",
    "print(f\"Part 1: {sum(1 for coord in grid if grid[coord] == SAND)}\")  # 858\n",
    "while add_grain(max_y=max_y, part2=True):\n",
    "    pass\n",
    "print(f\"Part 2: {sum(1 for coord in grid if grid[coord] == SAND)}\")  # 26845"
   ]
  },
  {
   "cell_type": "code",
   "execution_count": null,
   "metadata": {},
   "outputs": [],
   "source": []
  }
 ],
 "metadata": {
  "kernelspec": {
   "display_name": "Python 3.10.6 64-bit ('3.10.6')",
   "language": "python",
   "name": "python3"
  },
  "language_info": {
   "codemirror_mode": {
    "name": "ipython",
    "version": 3
   },
   "file_extension": ".py",
   "mimetype": "text/x-python",
   "name": "python",
   "nbconvert_exporter": "python",
   "pygments_lexer": "ipython3",
   "version": "3.10.6"
  },
  "orig_nbformat": 4,
  "vscode": {
   "interpreter": {
    "hash": "5319d5bf7e36bfcf27cea384254d8f85c68ed4d2ed4a006aeced7224a94cc17a"
   }
  }
 },
 "nbformat": 4,
 "nbformat_minor": 2
}
