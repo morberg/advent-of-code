{
 "cells": [
  {
   "cell_type": "code",
   "execution_count": 93,
   "metadata": {},
   "outputs": [],
   "source": [
    "from collections import Counter, defaultdict\n",
    "from typing import *\n",
    "from itertools import combinations, cycle\n",
    "from parse import parse\n",
    "import re\n",
    "\n",
    "import black\n",
    "import jupyter_black\n",
    "\n",
    "jupyter_black.load(lab=True, target_version=black.TargetVersion.PY310)"
   ]
  },
  {
   "cell_type": "code",
   "execution_count": 25,
   "metadata": {},
   "outputs": [
    {
     "name": "stdout",
     "output_type": "stream",
     "text": [
      "Part 1: 411\n",
      "Part 2: 56360\n"
     ]
    }
   ],
   "source": [
    "# Day 1: Chronal Calibration\n",
    "def first_repeat(frequencies):\n",
    "    freqs = cycle(frequencies)\n",
    "    found = set()\n",
    "    current = 0\n",
    "    while current not in found:\n",
    "        found.add(current)\n",
    "        current += next(freqs)\n",
    "    return current\n",
    "\n",
    "\n",
    "lines = open(\"2018/1.txt\").read().splitlines()\n",
    "frequencies = [int(line) for line in lines]\n",
    "print(f\"Part 1: {sum(frequencies)}\")  # 411\n",
    "print(f\"Part 2: {first_repeat(frequencies)}\")  # 56360"
   ]
  },
  {
   "cell_type": "code",
   "execution_count": 87,
   "metadata": {},
   "outputs": [
    {
     "name": "stdout",
     "output_type": "stream",
     "text": [
      "Part 1: 5166\n",
      "Part 2: cypueihajytordkgzxfqplbwn\n"
     ]
    }
   ],
   "source": [
    "# Day 2: Inventory Management System\n",
    "def checksum(ids):\n",
    "    def contains(text, repeated):\n",
    "        \"`text` contains exactly `repeated` repeated characters\"\n",
    "        return repeated in Counter(text).values()\n",
    "\n",
    "    twos = sum(contains(id, 2) for id in ids)\n",
    "    threes = sum(contains(id, 3) for id in ids)\n",
    "    return twos * threes\n",
    "\n",
    "\n",
    "def common_letters(ids):\n",
    "    \"Common letters for the two ids that only differ by one character.\"\n",
    "    for a_, b_ in combinations(ids, 2):\n",
    "        common = [a for a, b in zip(a_, b_) if a == b]\n",
    "        if len(a_) - len(common) == 1:\n",
    "            return \"\".join(common)\n",
    "\n",
    "\n",
    "ids = open(\"2018/2.txt\").read().splitlines()\n",
    "print(f\"Part 1: {checksum(ids)}\")  # 5166\n",
    "print(f\"Part 2: {common_letters(ids)}\")  # cypueihajytordkgzxfqplbwn"
   ]
  },
  {
   "cell_type": "code",
   "execution_count": 120,
   "metadata": {},
   "outputs": [
    {
     "name": "stdout",
     "output_type": "stream",
     "text": [
      "Part 1: 115348\n",
      "Part 2: 188\n"
     ]
    }
   ],
   "source": [
    "# Day 3: No Matter How You Slice It\n",
    "def patch(row, column, width, height):\n",
    "    \"Return a set with all coordinates\"\n",
    "    return {\n",
    "        (r, c) for c in range(column, column + width) for r in range(row, row + height)\n",
    "    }\n",
    "\n",
    "\n",
    "def point_claims(claims):\n",
    "    \"Number of claims per point\"\n",
    "    patches = Counter()\n",
    "    for _, column, row, width, height in claims:\n",
    "        patches.update(patch(row, column, width, height))\n",
    "    return patches\n",
    "\n",
    "\n",
    "def overlapping_inches(claims):\n",
    "    return sum(p > 1 for p in point_claims(claims).values())\n",
    "\n",
    "\n",
    "def intact_claim_id(claims):\n",
    "    overlapping = {\n",
    "        coord for coord, overlaps in point_claims(claims).items() if overlaps > 1\n",
    "    }\n",
    "\n",
    "    for id, column, row, width, height in claims:\n",
    "        claim = patch(row, column, width, height)\n",
    "        if all(point not in overlapping for point in claim):\n",
    "            return id\n",
    "\n",
    "\n",
    "# ID, column, row, width, height\n",
    "lines = open(\"2018/3.txt\").read().splitlines()\n",
    "claims = [tuple(int(x) for x in re.findall(r\"\\d+\", line)) for line in lines]\n",
    "print(f\"Part 1: {overlapping_inches(claims)}\")  # 115348\n",
    "print(f\"Part 2: {intact_claim_id(claims)}\")  # 188"
   ]
  },
  {
   "cell_type": "code",
   "execution_count": 105,
   "metadata": {},
   "outputs": [
    {
     "name": "stdout",
     "output_type": "stream",
     "text": [
      "Part 1: 35184\n",
      "Part 2: 37886\n"
     ]
    }
   ],
   "source": [
    "# Day 4: Repose Record\n",
    "def sleep_schedule(lines: List[str]) -> DefaultDict[int, Counter]:\n",
    "    log: List[List[str]] = sorted([line[1:].split(\"] \") for line in lines])\n",
    "    guard = snooze = 0\n",
    "    schedule = defaultdict(Counter)\n",
    "    for timestamp, entry in log:\n",
    "        if p := parse(\"Guard #{:d} begins shift\", entry):\n",
    "            guard = p[0]\n",
    "        elif p := parse(\"falls asleep\", entry):\n",
    "            snooze = int(timestamp[-2:])\n",
    "        elif p := parse(\"wakes up\", entry):\n",
    "            wakes = int(timestamp[-2:])\n",
    "            assert wakes > snooze\n",
    "            schedule[guard].update(range(snooze, wakes))\n",
    "        else:\n",
    "            raise ValueError(\"Can't parse\", entry)\n",
    "    return schedule\n",
    "\n",
    "\n",
    "def part1(schedule: DefaultDict[int, Counter]) -> int:\n",
    "    \"\"\"\n",
    "    Find the guard that has the most minutes asleep. What minute does that guard spend\n",
    "    asleep the most?\n",
    "    \"\"\"\n",
    "    guard, _ = sorted(\n",
    "        [(guard, slept.total()) for guard, slept in schedule.items()],\n",
    "        key=lambda x: x[1],\n",
    "    )[-1]\n",
    "    minute = schedule[guard].most_common(1)[0][0]\n",
    "\n",
    "    return guard * minute\n",
    "\n",
    "\n",
    "def part2(schedule: DefaultDict[int, Counter]) -> int:\n",
    "    \"\"\"\n",
    "    Of all guards, which guard is most frequently asleep on the same minute?\n",
    "    \"\"\"\n",
    "    guard, (minute, _) = sorted(\n",
    "        [(guard, slept.most_common(1)[0]) for guard, slept in schedule.items()],\n",
    "        key=lambda x: x[1][1],\n",
    "    )[-1]\n",
    "\n",
    "    return guard * minute\n",
    "\n",
    "\n",
    "lines: str = open(\"2018/4.txt\").read().splitlines()\n",
    "schedule: DefaultDict[int, Counter] = sleep_schedule(lines)\n",
    "print(f\"Part 1: {part1(schedule)}\")  # 35184\n",
    "print(f\"Part 2: {part2(schedule)}\")  # 37886"
   ]
  },
  {
   "cell_type": "code",
   "execution_count": null,
   "metadata": {},
   "outputs": [],
   "source": [
    "sorted()"
   ]
  }
 ],
 "metadata": {
  "interpreter": {
   "hash": "fdd70e6007af8aec0e4ca80217134456f86296d37786ac6018d740f7f134c914"
  },
  "kernelspec": {
   "display_name": "Python 3.10.0 64-bit ('3.10.0')",
   "language": "python",
   "name": "python3"
  },
  "language_info": {
   "codemirror_mode": {
    "name": "ipython",
    "version": 3
   },
   "file_extension": ".py",
   "mimetype": "text/x-python",
   "name": "python",
   "nbconvert_exporter": "python",
   "pygments_lexer": "ipython3",
   "version": "3.10.0"
  },
  "orig_nbformat": 4
 },
 "nbformat": 4,
 "nbformat_minor": 2
}
