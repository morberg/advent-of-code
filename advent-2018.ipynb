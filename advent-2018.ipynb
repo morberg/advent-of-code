{
 "cells": [
  {
   "cell_type": "code",
   "execution_count": 21,
   "metadata": {},
   "outputs": [],
   "source": [
    "from itertools import cycle\n",
    "\n",
    "import black\n",
    "import jupyter_black\n",
    "\n",
    "\n",
    "jupyter_black.load(lab=True, target_version=black.TargetVersion.PY310)"
   ]
  },
  {
   "cell_type": "code",
   "execution_count": 24,
   "metadata": {},
   "outputs": [
    {
     "name": "stdout",
     "output_type": "stream",
     "text": [
      "Part 1: 411\n",
      "Part 2: 56360\n"
     ]
    }
   ],
   "source": [
    "# Day 1: Chronal Calibration\n",
    "def first_repeat(frequencies):\n",
    "    freqs = cycle(iter(frequencies))\n",
    "    found = set()\n",
    "    current = 0\n",
    "    while current not in found:\n",
    "        found.add(current)\n",
    "        current += next(freqs)\n",
    "    return current\n",
    "\n",
    "\n",
    "lines = open(\"2018/1.txt\").read().splitlines()\n",
    "frequencies = [int(line) for line in lines]\n",
    "print(f\"Part 1: {sum(frequencies)}\") # 411\n",
    "print(f\"Part 2: {first_repeat(frequencies)}\") # 56360"
   ]
  },
  {
   "cell_type": "code",
   "execution_count": null,
   "metadata": {},
   "outputs": [],
   "source": []
  }
 ],
 "metadata": {
  "interpreter": {
   "hash": "fdd70e6007af8aec0e4ca80217134456f86296d37786ac6018d740f7f134c914"
  },
  "kernelspec": {
   "display_name": "Python 3.10.0 64-bit ('3.10.0')",
   "language": "python",
   "name": "python3"
  },
  "language_info": {
   "codemirror_mode": {
    "name": "ipython",
    "version": 3
   },
   "file_extension": ".py",
   "mimetype": "text/x-python",
   "name": "python",
   "nbconvert_exporter": "python",
   "pygments_lexer": "ipython3",
   "version": "3.10.0"
  },
  "orig_nbformat": 4
 },
 "nbformat": 4,
 "nbformat_minor": 2
}
