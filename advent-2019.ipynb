{
 "cells": [
  {
   "cell_type": "code",
   "execution_count": 80,
   "metadata": {},
   "outputs": [],
   "source": [
    "import re\n",
    "from collections import Counter, defaultdict, deque\n",
    "from dataclasses import dataclass\n",
    "from functools import cache\n",
    "from heapq import heappop, heappush\n",
    "from math import inf\n",
    "\n",
    "from itertools import product\n",
    "\n",
    "import black\n",
    "import jupyter_black\n",
    "from icecream import ic\n",
    "from parse import parse\n",
    "\n",
    "# from primefac import primefac\n",
    "\n",
    "jupyter_black.load(lab=True, target_version=black.TargetVersion.PY310)\n",
    "\n",
    "\n",
    "def first(iterable):\n",
    "    return next(iter(iterable))"
   ]
  },
  {
   "cell_type": "code",
   "execution_count": 30,
   "metadata": {},
   "outputs": [
    {
     "name": "stdout",
     "output_type": "stream",
     "text": [
      "Part 1: 3295424\n",
      "Part 2: 4940279\n"
     ]
    }
   ],
   "source": [
    "# Day 1: The Tyranny of the Rocket Equation\n",
    "def fuel_needed(mass):\n",
    "    fuel = mass // 3 - 2\n",
    "    if fuel <= 0:\n",
    "        return 0\n",
    "    return fuel_needed(fuel) + fuel\n",
    "\n",
    "\n",
    "modules = [int(x) for x in open(\"2019/1.txt\").read().splitlines()]\n",
    "print(f\"Part 1: {sum(module // 3 - 2 for module in modules)}\")\n",
    "print(f\"Part 2: {sum(fuel_needed(module) for module in modules)}\")"
   ]
  },
  {
   "cell_type": "code",
   "execution_count": 95,
   "metadata": {},
   "outputs": [
    {
     "name": "stdout",
     "output_type": "stream",
     "text": [
      "Part 1: 5098658\n",
      "Part 2: 5064\n"
     ]
    }
   ],
   "source": [
    "# Day 2: 1202 Program Alarm\n",
    "def address(pointer):\n",
    "    return memory[pointer]\n",
    "\n",
    "\n",
    "def reg(pos):\n",
    "    return memory[memory[pos]]\n",
    "\n",
    "\n",
    "def add(ip):\n",
    "    memory[address(ip + 3)] = reg(ip + 1) + reg(ip + 2)\n",
    "\n",
    "\n",
    "def mul(ip):\n",
    "    memory[address(ip + 3)] = reg(ip + 1) * reg(ip + 2)\n",
    "\n",
    "\n",
    "def run_program():\n",
    "    ip = 0\n",
    "    instruction = memory[ip]\n",
    "    while instruction != 99:\n",
    "        instructions[instruction][0](ip)\n",
    "        ip += instructions[instruction][1]\n",
    "        instruction = memory[ip]\n",
    "\n",
    "\n",
    "def part1():\n",
    "    memory[1] = 12\n",
    "    memory[2] = 2\n",
    "    run_program()\n",
    "\n",
    "\n",
    "def part2():\n",
    "    global memory\n",
    "    memory = program.copy()\n",
    "    for noun, verb in product(range(100), range(100)):\n",
    "        memory[1] = noun\n",
    "        memory[2] = verb\n",
    "        run_program()\n",
    "        if address(0) == 19690720:\n",
    "            break\n",
    "        memory = program.copy()\n",
    "    return noun, verb\n",
    "\n",
    "\n",
    "# opcode: (instruction, increase of ip)\n",
    "instructions = {1: (add, 4), 2: (mul, 4)}\n",
    "\n",
    "program = [int(x) for x in open(\"2019/2.txt\").read().split(\",\")]\n",
    "memory = program.copy()\n",
    "part1()\n",
    "print(f\"Part 1: {address(0)}\")  # 5098658\n",
    "noun, verb = part2()\n",
    "print(f\"Part 2: {100*noun + verb}\") # 5064"
   ]
  },
  {
   "cell_type": "code",
   "execution_count": null,
   "metadata": {},
   "outputs": [],
   "source": []
  }
 ],
 "metadata": {
  "kernelspec": {
   "display_name": "Python 3.10.6 64-bit ('3.10.6')",
   "language": "python",
   "name": "python3"
  },
  "language_info": {
   "codemirror_mode": {
    "name": "ipython",
    "version": 3
   },
   "file_extension": ".py",
   "mimetype": "text/x-python",
   "name": "python",
   "nbconvert_exporter": "python",
   "pygments_lexer": "ipython3",
   "version": "3.10.6"
  },
  "orig_nbformat": 4,
  "vscode": {
   "interpreter": {
    "hash": "5319d5bf7e36bfcf27cea384254d8f85c68ed4d2ed4a006aeced7224a94cc17a"
   }
  }
 },
 "nbformat": 4,
 "nbformat_minor": 2
}
