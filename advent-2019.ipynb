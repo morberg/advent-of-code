{
 "cells": [
  {
   "cell_type": "code",
   "execution_count": 22,
   "metadata": {},
   "outputs": [],
   "source": [
    "import re\n",
    "from collections import Counter, defaultdict, deque\n",
    "from dataclasses import dataclass\n",
    "from functools import cache\n",
    "from heapq import heappop, heappush\n",
    "from itertools import product\n",
    "from math import inf\n",
    "\n",
    "import black\n",
    "import jupyter_black\n",
    "import networkx as nx\n",
    "from icecream import ic\n",
    "from parse import parse\n",
    "\n",
    "# from primefac import primefac\n",
    "\n",
    "jupyter_black.load(lab=True, target_version=black.TargetVersion.PY310)\n",
    "\n",
    "\n",
    "def first(iterable):\n",
    "    return next(iter(iterable))"
   ]
  },
  {
   "cell_type": "code",
   "execution_count": 30,
   "metadata": {},
   "outputs": [
    {
     "name": "stdout",
     "output_type": "stream",
     "text": [
      "Part 1: 3295424\n",
      "Part 2: 4940279\n"
     ]
    }
   ],
   "source": [
    "# Day 1: The Tyranny of the Rocket Equation\n",
    "def fuel_needed(mass):\n",
    "    fuel = mass // 3 - 2\n",
    "    if fuel <= 0:\n",
    "        return 0\n",
    "    return fuel_needed(fuel) + fuel\n",
    "\n",
    "\n",
    "modules = [int(x) for x in open(\"2019/1.txt\").read().splitlines()]\n",
    "print(f\"Part 1: {sum(module // 3 - 2 for module in modules)}\")\n",
    "print(f\"Part 2: {sum(fuel_needed(module) for module in modules)}\")"
   ]
  },
  {
   "cell_type": "code",
   "execution_count": 95,
   "metadata": {},
   "outputs": [
    {
     "name": "stdout",
     "output_type": "stream",
     "text": [
      "Part 1: 5098658\n",
      "Part 2: 5064\n"
     ]
    }
   ],
   "source": [
    "# Day 2: 1202 Program Alarm\n",
    "def address(pointer):\n",
    "    return memory[pointer]\n",
    "\n",
    "\n",
    "def reg(pos):\n",
    "    return memory[memory[pos]]\n",
    "\n",
    "\n",
    "def add(ip):\n",
    "    memory[address(ip + 3)] = reg(ip + 1) + reg(ip + 2)\n",
    "\n",
    "\n",
    "def mul(ip):\n",
    "    memory[address(ip + 3)] = reg(ip + 1) * reg(ip + 2)\n",
    "\n",
    "\n",
    "def run_program():\n",
    "    ip = 0\n",
    "    instruction = memory[ip]\n",
    "    while instruction != 99:\n",
    "        instructions[instruction][0](ip)\n",
    "        ip += instructions[instruction][1]\n",
    "        instruction = memory[ip]\n",
    "\n",
    "\n",
    "def part1():\n",
    "    memory[1] = 12\n",
    "    memory[2] = 2\n",
    "    run_program()\n",
    "\n",
    "\n",
    "def part2():\n",
    "    global memory\n",
    "    memory = program.copy()\n",
    "    for noun, verb in product(range(100), range(100)):\n",
    "        memory[1] = noun\n",
    "        memory[2] = verb\n",
    "        run_program()\n",
    "        if address(0) == 19690720:\n",
    "            break\n",
    "        memory = program.copy()\n",
    "    return noun, verb\n",
    "\n",
    "\n",
    "# opcode: (instruction, increase of ip)\n",
    "instructions = {1: (add, 4), 2: (mul, 4)}\n",
    "\n",
    "program = [int(x) for x in open(\"2019/2.txt\").read().split(\",\")]\n",
    "memory = program.copy()\n",
    "part1()\n",
    "print(f\"Part 1: {address(0)}\")  # 5098658\n",
    "noun, verb = part2()\n",
    "print(f\"Part 2: {100*noun + verb}\") # 5064"
   ]
  },
  {
   "cell_type": "code",
   "execution_count": 205,
   "metadata": {},
   "outputs": [
    {
     "name": "stdout",
     "output_type": "stream",
     "text": [
      "Part 1: 2180\n",
      "Part 2: 112316\n"
     ]
    }
   ],
   "source": [
    "# Day 3: Crossed Wires\n",
    "def create_wire(moves):\n",
    "    x, y = 0, 0\n",
    "    cur_step = 1\n",
    "    wire = {}\n",
    "    dx = dict(zip(\"LRUD\", [-1, 1, 0, 0]))\n",
    "    dy = dict(zip(\"LRUD\", [0, 0, 1, -1]))\n",
    "    for move in moves:\n",
    "        dir, steps = move\n",
    "        for step in range(steps):\n",
    "            x += dx[dir]\n",
    "            y += dy[dir]\n",
    "            wire[(x, y)] = cur_step + step\n",
    "        cur_step += steps\n",
    "    return wire\n",
    "\n",
    "\n",
    "def parse_line(line):\n",
    "    return [tuple((move[0], int(move[1:]))) for move in line.split(\",\")]\n",
    "\n",
    "\n",
    "def origo_distance(a):\n",
    "    return sum(abs(x) for x in a)\n",
    "\n",
    "\n",
    "a, b = open(\"2019/3.txt\").read().splitlines()\n",
    "moves_a = parse_line(a)\n",
    "moves_b = parse_line(b)\n",
    "# moves_a = parse_line(\"R75,D30,R83,U83,L12,D49,R71,U7,L72\")\n",
    "# moves_b = parse_line(\"U62,R66,U55,R34,D71,R55,D58,R83\")\n",
    "a = create_wire(moves_a)\n",
    "b = create_wire(moves_b)\n",
    "intersections = {point: a[point] + b[point] for point in a if point in b}\n",
    "print(f\"Part 1: {origo_distance(min(intersections, key=origo_distance))}\")  # 2180\n",
    "print(f\"Part 2: {min(intersections.values())}\")  # 112316"
   ]
  },
  {
   "cell_type": "code",
   "execution_count": 282,
   "metadata": {},
   "outputs": [
    {
     "name": "stdout",
     "output_type": "stream",
     "text": [
      "Part 1: 1688\n",
      "Part 2: 1135\n"
     ]
    }
   ],
   "source": [
    "# Day 4: Secure Container\n",
    "def no_decrease(number):\n",
    "    number = str(number)\n",
    "    return all(b >= a for a, b in zip(number, number[1:]))\n",
    "\n",
    "\n",
    "def two_consecutive(number):\n",
    "    number = str(number)\n",
    "    return any(b == a for a, b in zip(number, number[1:]))\n",
    "\n",
    "\n",
    "def strip_repeats(number):\n",
    "    \"\"\"Returns a string where all numbers that are repeated three times or more are\n",
    "    removed. E.g. '122233' -> '133'.\"\"\"\n",
    "    result = str(number)\n",
    "    for x in re.findall(r\"(.)\\1{2,}\", str(number)):\n",
    "        result = result.replace(x, \"\")\n",
    "    return result\n",
    "\n",
    "\n",
    "matches = 0\n",
    "for number in range(172851, 675869 + 1):\n",
    "    if no_decrease(number) and two_consecutive(number):\n",
    "        matches += 1\n",
    "\n",
    "print(f\"Part 1: {matches}\")  # 1660\n",
    "\n",
    "matches = 0\n",
    "for number in range(172851, 675869 + 1):\n",
    "    if no_decrease(number) and two_consecutive(number):\n",
    "        no_long_repeats = strip_repeats(number)\n",
    "        if no_long_repeats and two_consecutive(int(no_long_repeats)):\n",
    "            matches += 1\n",
    "print(f\"Part 2: {matches}\")  # 1135"
   ]
  },
  {
   "cell_type": "code",
   "execution_count": 6,
   "metadata": {},
   "outputs": [
    {
     "name": "stdout",
     "output_type": "stream",
     "text": [
      "Part 1: 13294380\n",
      "Part 2: 11460760\n"
     ]
    }
   ],
   "source": [
    "# Day 5: Sunny with a change of Asteroids\n",
    "def parameter(offset, modes):\n",
    "    return memory[memory[ip + offset]] if modes[-offset] == \"0\" else memory[ip + offset]\n",
    "\n",
    "\n",
    "def destination(offset, modes):\n",
    "    return memory[ip + offset] if modes[-offset] == \"0\" else ip + offset\n",
    "\n",
    "\n",
    "def add(modes):\n",
    "    global ip\n",
    "    memory[destination(3, modes)] = parameter(1, modes) + parameter(2, modes)\n",
    "    ip += 4\n",
    "\n",
    "\n",
    "def mul(modes):\n",
    "    global ip\n",
    "    memory[destination(3, modes)] = parameter(1, modes) * parameter(2, modes)\n",
    "    ip += 4\n",
    "\n",
    "\n",
    "def poke(modes):\n",
    "    global ip\n",
    "    memory[destination(1, modes)] = input_value\n",
    "    ip += 2\n",
    "\n",
    "\n",
    "def peek(modes):\n",
    "    global ip\n",
    "    mem_address = destination(1, modes)\n",
    "    ip += 2\n",
    "    return memory[mem_address]\n",
    "\n",
    "\n",
    "def jump_if_true(modes):\n",
    "    global ip\n",
    "    if parameter(1, modes):\n",
    "        ip = parameter(2, modes)\n",
    "    else:\n",
    "        ip += 3\n",
    "\n",
    "\n",
    "def jump_if_false(modes):\n",
    "    global ip\n",
    "    if not parameter(1, modes):\n",
    "        ip = parameter(2, modes)\n",
    "    else:\n",
    "        ip += 3\n",
    "\n",
    "\n",
    "def less_than(modes):\n",
    "    global ip\n",
    "    if parameter(1, modes) < parameter(2, modes):\n",
    "        memory[destination(3, modes)] = 1\n",
    "    else:\n",
    "        memory[destination(3, modes)] = 0\n",
    "    ip += 4\n",
    "\n",
    "\n",
    "def equals(modes):\n",
    "    global ip\n",
    "    if parameter(1, modes) == parameter(2, modes):\n",
    "        memory[destination(3, modes)] = 1\n",
    "    else:\n",
    "        memory[destination(3, modes)] = 0\n",
    "    ip += 4\n",
    "\n",
    "\n",
    "def run_program(program, input):\n",
    "    global ip, input_value, memory\n",
    "    instructions = {\n",
    "        1: add,\n",
    "        2: mul,\n",
    "        3: poke,\n",
    "        4: peek,\n",
    "        5: jump_if_true,\n",
    "        6: jump_if_false,\n",
    "        7: less_than,\n",
    "        8: equals,\n",
    "    }\n",
    "    input_value = input\n",
    "    memory = program.copy()\n",
    "    outputs, ip = [], 0\n",
    "    opcode = int(str(memory[ip])[-2:])  # Last two digits of instruction field\n",
    "    while opcode != 99:\n",
    "        modes = \"000\" + str(memory[ip])[:-2]  # Everything but last two digits, padded\n",
    "        result = instructions[opcode](modes)  # Execute instruction\n",
    "        if result:\n",
    "            outputs.append(result)\n",
    "        opcode = int(str(memory[ip])[-2:])  # Last two digits\n",
    "    return outputs\n",
    "\n",
    "\n",
    "program = [int(x) for x in open(\"2019/5.txt\").read().split(\",\")]\n",
    "print(\"Part 1:\", first(run_program(program, 1)))  # 13294380\n",
    "print(\"Part 2:\", first(run_program(program, 5)))  # 13294380"
   ]
  },
  {
   "cell_type": "code",
   "execution_count": 27,
   "metadata": {},
   "outputs": [
    {
     "name": "stdout",
     "output_type": "stream",
     "text": [
      "Part 1: 135690\n",
      "Part 2: 298\n"
     ]
    }
   ],
   "source": [
    "# Day 6: Universal Orbit Map\n",
    "lines = open(\"2019/6.txt\").read().splitlines()\n",
    "\n",
    "G = nx.Graph()\n",
    "for line in lines:\n",
    "    u, v = line.split(\")\")\n",
    "    G.add_edge(u, v)\n",
    "orbits = nx.single_target_shortest_path_length(G, \"COM\")\n",
    "print(f\"Part 1: {sum(dist for _, dist in orbits)}\")  # 135690\n",
    "print(f\"Part 2: {nx.shortest_path_length(G, 'YOU', 'SAN') - 2}\")  # 298"
   ]
  },
  {
   "cell_type": "code",
   "execution_count": null,
   "metadata": {},
   "outputs": [],
   "source": []
  }
 ],
 "metadata": {
  "kernelspec": {
   "display_name": "Python 3.10.6 64-bit ('3.10.6')",
   "language": "python",
   "name": "python3"
  },
  "language_info": {
   "codemirror_mode": {
    "name": "ipython",
    "version": 3
   },
   "file_extension": ".py",
   "mimetype": "text/x-python",
   "name": "python",
   "nbconvert_exporter": "python",
   "pygments_lexer": "ipython3",
   "version": "3.10.6"
  },
  "orig_nbformat": 4,
  "vscode": {
   "interpreter": {
    "hash": "5319d5bf7e36bfcf27cea384254d8f85c68ed4d2ed4a006aeced7224a94cc17a"
   }
  }
 },
 "nbformat": 4,
 "nbformat_minor": 2
}
