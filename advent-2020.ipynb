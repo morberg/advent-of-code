{
 "cells": [
  {
   "cell_type": "code",
   "execution_count": 2,
   "metadata": {},
   "outputs": [
    {
     "data": {
      "text/html": [
       "\n",
       "                <script type=\"application/javascript\" id=\"jupyter_black\">\n",
       "                (function() {\n",
       "                    if (window.IPython === undefined) {\n",
       "                        return\n",
       "                    }\n",
       "                    var msg = \"WARNING: it looks like you might have loaded \" +\n",
       "                        \"jupyter_black in a non-lab notebook with \" +\n",
       "                        \"`is_lab=True`. Please double check, and if \" +\n",
       "                        \"loading with `%load_ext` please review the README!\"\n",
       "                    console.log(msg)\n",
       "                    alert(msg)\n",
       "                })()\n",
       "                </script>\n",
       "                "
      ],
      "text/plain": [
       "<IPython.core.display.HTML object>"
      ]
     },
     "metadata": {},
     "output_type": "display_data"
    }
   ],
   "source": [
    "import re\n",
    "from collections import Counter\n",
    "from itertools import permutations\n",
    "from typing import List\n",
    "\n",
    "import black\n",
    "import jupyter_black\n",
    "from parse import parse\n",
    "\n",
    "jupyter_black.load(lab=True, target_version=black.TargetVersion.PY310)\n",
    "\n",
    "\n",
    "def ints(text: str) -> List[int]:\n",
    "    return [int(x) for x in re.findall(\"-?\\d+\", text)]\n",
    "\n",
    "\n",
    "def first(iterable):\n",
    "    return next(iter(iterable))"
   ]
  },
  {
   "cell_type": "code",
   "execution_count": 6,
   "metadata": {},
   "outputs": [
    {
     "name": "stdout",
     "output_type": "stream",
     "text": [
      "Part 1: 471019\n",
      "Part 2: 103927824\n"
     ]
    }
   ],
   "source": [
    "# Day 1: Report Repair\n",
    "numbers = [int(x) for x in open(\"2020/1.txt\").read().splitlines()]\n",
    "for a, b in permutations(numbers, 2):\n",
    "    if a + b == 2020:\n",
    "        break\n",
    "print(f\"Part 1: {a*b}\")  # 471019\n",
    "\n",
    "for a, b, c in permutations(numbers, 3):\n",
    "    if a + b + c == 2020:\n",
    "        break\n",
    "print(f\"Part 2: {a*b*c}\")  # 103927824"
   ]
  },
  {
   "cell_type": "code",
   "execution_count": 24,
   "metadata": {},
   "outputs": [
    {
     "name": "stdout",
     "output_type": "stream",
     "text": [
      "Part 1: 398\n",
      "Part 2: 562\n"
     ]
    }
   ],
   "source": [
    "# Day 2: Password Philosophy\n",
    "def valid(line):\n",
    "    lower, upper, char, password = parse(\"{:d}-{:d} {}: {}\", line)\n",
    "    return lower <= password.count(char) <= upper\n",
    "\n",
    "\n",
    "def valid2(line):\n",
    "    first, second, char, password = parse(\"{:d}-{:d} {}: {}\", line)\n",
    "    return ((password[first - 1] == char) + (password[second - 1] == char)) == 1\n",
    "\n",
    "\n",
    "lines = open(\"2020/2.txt\").read().splitlines()\n",
    "print(f\"Part 1: {sum(valid(line) for line in lines)}\") # 398\n",
    "print(f\"Part 2: {sum(valid2(line) for line in lines)}\") # 562"
   ]
  },
  {
   "cell_type": "code",
   "execution_count": 50,
   "metadata": {},
   "outputs": [
    {
     "name": "stdout",
     "output_type": "stream",
     "text": [
      "Part 1: 189\n",
      "Part 2: 1718180100\n"
     ]
    }
   ],
   "source": [
    "# Day 3: Toboggan Trajectory\n",
    "def downhill(lines, right=3, skip_every_other_line=False):\n",
    "    pos, trees = right, 0\n",
    "    skip = True\n",
    "    for line in lines[1:]:\n",
    "        if skip_every_other_line:\n",
    "            if skip:\n",
    "                skip = False\n",
    "                continue\n",
    "            else:\n",
    "                skip = True\n",
    "        if line[pos] == \"#\":\n",
    "            trees += 1\n",
    "        pos = (pos + right) % len(line)\n",
    "    return trees\n",
    "\n",
    "\n",
    "def run(lines, slopes):\n",
    "    result = 1\n",
    "    for slope in slopes:\n",
    "        result *= downhill(lines, slope[0], slope[1])\n",
    "    return result\n",
    "\n",
    "\n",
    "lines = open(\"2020/3.txt\").read().splitlines()\n",
    "slopes = ((1, False), (3, False), (5, False), (7, False), (1, True))\n",
    "print(f\"Part 1: {downhill(lines)}\")  # 189\n",
    "print(f\"Part 2: {run(lines, slopes)}\")  # 1718180100"
   ]
  },
  {
   "cell_type": "code",
   "execution_count": 172,
   "metadata": {},
   "outputs": [
    {
     "name": "stdout",
     "output_type": "stream",
     "text": [
      "Part 1: 170\n",
      "Part 2: 103\n"
     ]
    }
   ],
   "source": [
    "# Day 4: Passport Processing\n",
    "def all_fields_present(passport):\n",
    "    FIELDS_NEEDED = {\"byr\", \"iyr\", \"eyr\", \"hgt\", \"hcl\", \"ecl\", \"pid\"}\n",
    "    fields = passport.split(\" \")\n",
    "    fields = {field.split(\":\")[0]: field.split(\":\")[1] for field in fields}\n",
    "    return all(field in fields.keys() for field in FIELDS_NEEDED)\n",
    "\n",
    "\n",
    "def valid(passport):\n",
    "    def check_height(height):\n",
    "        unit = height[-2:]\n",
    "        value = first(ints(height))\n",
    "        if unit == \"cm\":\n",
    "            return 150 <= value <= 193\n",
    "        elif unit == \"in\":\n",
    "            return 59 <= value <= 76\n",
    "        else:\n",
    "            return False\n",
    "\n",
    "    EYE_COLORS = {\"amb\", \"blu\", \"brn\", \"grn\", \"gry\", \"hzl\", \"oth\"}\n",
    "    rules = {\n",
    "        \"byr\": lambda year: 1920 <= int(year) <= 2002,\n",
    "        \"iyr\": lambda year: 2010 <= int(year) <= 2020,\n",
    "        \"eyr\": lambda year: 2020 <= int(year) <= 2030,\n",
    "        \"hgt\": check_height,\n",
    "        \"hcl\": lambda color: re.search(\"#[0-9a-f]{6}\", color) is not None,\n",
    "        \"ecl\": lambda color: color in EYE_COLORS,\n",
    "        \"pid\": lambda number: re.search(\"^[0-9]{9}$\", number) is not None,\n",
    "        \"cid\": lambda x: True,\n",
    "    }\n",
    "    fields = passport.split(\" \")\n",
    "    fields = {field.split(\":\")[0]: field.split(\":\")[1] for field in fields}\n",
    "    if all(rules[key](value) for key, value in fields.items()):\n",
    "        return True\n",
    "\n",
    "\n",
    "passports = open(\"2020/4.txt\").read().strip().split(\"\\n\\n\")\n",
    "passports = [p.replace(\"\\n\", \" \") for p in passports]\n",
    "passports = [p for p in passports if all_fields_present(p)]\n",
    "print(f\"Part 1: {len(passports)}\")\n",
    "passports = [p for p in passports if valid(p)]\n",
    "print(f\"Part 2: {len(passports)}\")"
   ]
  },
  {
   "cell_type": "code",
   "execution_count": 199,
   "metadata": {},
   "outputs": [
    {
     "name": "stdout",
     "output_type": "stream",
     "text": [
      "Part 1: 991\n",
      "Part 2: 534\n"
     ]
    }
   ],
   "source": [
    "# Day 5: Binary Boarding\n",
    "def seat_id(boarding_pass):\n",
    "    row = boarding_pass[:7].replace(\"F\", \"0\").replace(\"B\", \"1\")\n",
    "    column = boarding_pass[7:].replace(\"L\", \"0\").replace(\"R\", \"1\")\n",
    "    return int(row, 2) * 8 + int(column, 2)\n",
    "\n",
    "\n",
    "boarding_passes = open(\"2020/5.txt\").read().splitlines()\n",
    "seat_ids = sorted(seat_id(boarding_pass) for boarding_pass in boarding_passes)\n",
    "print(f\"Part 1: {max(seat_ids)}\")\n",
    "my_seat_id = first(\n",
    "    (higher - 1) for lower, higher in zip(seat_ids, seat_ids[1:]) if higher - lower == 2\n",
    ")\n",
    "print(f\"Part 2: {my_seat_id}\")"
   ]
  },
  {
   "cell_type": "code",
   "execution_count": 41,
   "metadata": {},
   "outputs": [
    {
     "name": "stdout",
     "output_type": "stream",
     "text": [
      "Part 1: 6683\n",
      "Part 2: 3122\n"
     ]
    }
   ],
   "source": [
    "# Day 6: Custom Customs\n",
    "def unique_answers(groups):\n",
    "    total = 0\n",
    "    for group in groups:\n",
    "        answers = set()\n",
    "        for person in group:\n",
    "            for question in person:\n",
    "                answers.add(question)\n",
    "        total += len(answers)\n",
    "    return total\n",
    "\n",
    "\n",
    "def all_yes_answers(groups):\n",
    "    total = 0\n",
    "    for group in groups:\n",
    "        group_answers = Counter()\n",
    "        for person in group:\n",
    "            for question in person:\n",
    "                group_answers += Counter(question)\n",
    "        for answer, count in group_answers.items():\n",
    "            if count == len(group):\n",
    "                total += 1\n",
    "    return total\n",
    "\n",
    "\n",
    "groups = open(\"2020/6.txt\").read().strip().split(\"\\n\\n\")\n",
    "groups = [group.splitlines() for group in groups]\n",
    "\n",
    "print(f\"Part 1: {unique_answers(groups)}\")\n",
    "print(f\"Part 2: {all_yes_answers(groups)}\")"
   ]
  },
  {
   "cell_type": "code",
   "execution_count": null,
   "metadata": {},
   "outputs": [],
   "source": []
  }
 ],
 "metadata": {
  "kernelspec": {
   "display_name": "Python 3",
   "language": "python",
   "name": "python3"
  },
  "language_info": {
   "codemirror_mode": {
    "name": "ipython",
    "version": 3
   },
   "file_extension": ".py",
   "mimetype": "text/x-python",
   "name": "python",
   "nbconvert_exporter": "python",
   "pygments_lexer": "ipython3",
   "version": "3.10.6"
  },
  "orig_nbformat": 4,
  "vscode": {
   "interpreter": {
    "hash": "5319d5bf7e36bfcf27cea384254d8f85c68ed4d2ed4a006aeced7224a94cc17a"
   }
  }
 },
 "nbformat": 4,
 "nbformat_minor": 2
}
