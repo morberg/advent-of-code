{
 "cells": [
  {
   "cell_type": "code",
   "execution_count": 275,
   "metadata": {},
   "outputs": [],
   "source": [
    "import re\n",
    "from collections import Counter, defaultdict\n",
    "from itertools import permutations\n",
    "from math import prod\n",
    "from typing import List\n",
    "from functools import cache\n",
    "\n",
    "import black\n",
    "import jupyter_black\n",
    "from parse import parse\n",
    "\n",
    "jupyter_black.load(lab=True, target_version=black.TargetVersion.PY310)\n",
    "\n",
    "\n",
    "def ints(text: str) -> List[int]:\n",
    "    return [int(x) for x in re.findall(\"-?\\d+\", text)]\n",
    "\n",
    "\n",
    "def first(iterable):\n",
    "    return next(iter(iterable))"
   ]
  },
  {
   "cell_type": "code",
   "execution_count": 6,
   "metadata": {},
   "outputs": [
    {
     "name": "stdout",
     "output_type": "stream",
     "text": [
      "Part 1: 471019\n",
      "Part 2: 103927824\n"
     ]
    }
   ],
   "source": [
    "# Day 1: Report Repair\n",
    "numbers = [int(x) for x in open(\"2020/1.txt\").read().splitlines()]\n",
    "for a, b in permutations(numbers, 2):\n",
    "    if a + b == 2020:\n",
    "        break\n",
    "print(f\"Part 1: {a*b}\")  # 471019\n",
    "\n",
    "for a, b, c in permutations(numbers, 3):\n",
    "    if a + b + c == 2020:\n",
    "        break\n",
    "print(f\"Part 2: {a*b*c}\")  # 103927824"
   ]
  },
  {
   "cell_type": "code",
   "execution_count": 24,
   "metadata": {},
   "outputs": [
    {
     "name": "stdout",
     "output_type": "stream",
     "text": [
      "Part 1: 398\n",
      "Part 2: 562\n"
     ]
    }
   ],
   "source": [
    "# Day 2: Password Philosophy\n",
    "def valid(line):\n",
    "    lower, upper, char, password = parse(\"{:d}-{:d} {}: {}\", line)\n",
    "    return lower <= password.count(char) <= upper\n",
    "\n",
    "\n",
    "def valid2(line):\n",
    "    first, second, char, password = parse(\"{:d}-{:d} {}: {}\", line)\n",
    "    return ((password[first - 1] == char) + (password[second - 1] == char)) == 1\n",
    "\n",
    "\n",
    "lines = open(\"2020/2.txt\").read().splitlines()\n",
    "print(f\"Part 1: {sum(valid(line) for line in lines)}\") # 398\n",
    "print(f\"Part 2: {sum(valid2(line) for line in lines)}\") # 562"
   ]
  },
  {
   "cell_type": "code",
   "execution_count": 51,
   "metadata": {},
   "outputs": [
    {
     "name": "stdout",
     "output_type": "stream",
     "text": [
      "Part 1: 189\n",
      "Part 2: 1718180100\n"
     ]
    }
   ],
   "source": [
    "# Day 3: Toboggan Trajectory\n",
    "def downhill(lines, right=3, down=1, tree=\"#\"):\n",
    "    return sum(\n",
    "        1\n",
    "        for row, line in enumerate(lines[::down])\n",
    "        if line[(right * row) % len(line)] == tree\n",
    "    )\n",
    "\n",
    "\n",
    "def run(lines, slopes):\n",
    "    return prod(downhill(lines, *slope) for slope in slopes)\n",
    "\n",
    "\n",
    "lines = open(\"2020/3.txt\").read().splitlines()\n",
    "slopes = ((1, 1), (3, 1), (5, 1), (7, 1), (1, 2))\n",
    "print(f\"Part 1: {downhill(lines)}\")  # 189\n",
    "print(f\"Part 2: {run(lines, slopes)}\")  # 1718180100"
   ]
  },
  {
   "cell_type": "code",
   "execution_count": 172,
   "metadata": {},
   "outputs": [
    {
     "name": "stdout",
     "output_type": "stream",
     "text": [
      "Part 1: 170\n",
      "Part 2: 103\n"
     ]
    }
   ],
   "source": [
    "# Day 4: Passport Processing\n",
    "def all_fields_present(passport):\n",
    "    FIELDS_NEEDED = {\"byr\", \"iyr\", \"eyr\", \"hgt\", \"hcl\", \"ecl\", \"pid\"}\n",
    "    fields = passport.split(\" \")\n",
    "    fields = {field.split(\":\")[0]: field.split(\":\")[1] for field in fields}\n",
    "    return all(field in fields.keys() for field in FIELDS_NEEDED)\n",
    "\n",
    "\n",
    "def valid(passport):\n",
    "    def check_height(height):\n",
    "        unit = height[-2:]\n",
    "        value = first(ints(height))\n",
    "        if unit == \"cm\":\n",
    "            return 150 <= value <= 193\n",
    "        elif unit == \"in\":\n",
    "            return 59 <= value <= 76\n",
    "        else:\n",
    "            return False\n",
    "\n",
    "    EYE_COLORS = {\"amb\", \"blu\", \"brn\", \"grn\", \"gry\", \"hzl\", \"oth\"}\n",
    "    rules = {\n",
    "        \"byr\": lambda year: 1920 <= int(year) <= 2002,\n",
    "        \"iyr\": lambda year: 2010 <= int(year) <= 2020,\n",
    "        \"eyr\": lambda year: 2020 <= int(year) <= 2030,\n",
    "        \"hgt\": check_height,\n",
    "        \"hcl\": lambda color: re.search(\"#[0-9a-f]{6}\", color) is not None,\n",
    "        \"ecl\": lambda color: color in EYE_COLORS,\n",
    "        \"pid\": lambda number: re.search(\"^[0-9]{9}$\", number) is not None,\n",
    "        \"cid\": lambda x: True,\n",
    "    }\n",
    "    fields = passport.split(\" \")\n",
    "    fields = {field.split(\":\")[0]: field.split(\":\")[1] for field in fields}\n",
    "    if all(rules[key](value) for key, value in fields.items()):\n",
    "        return True\n",
    "\n",
    "\n",
    "passports = open(\"2020/4.txt\").read().strip().split(\"\\n\\n\")\n",
    "passports = [p.replace(\"\\n\", \" \") for p in passports]\n",
    "passports = [p for p in passports if all_fields_present(p)]\n",
    "print(f\"Part 1: {len(passports)}\")\n",
    "passports = [p for p in passports if valid(p)]\n",
    "print(f\"Part 2: {len(passports)}\")"
   ]
  },
  {
   "cell_type": "code",
   "execution_count": 199,
   "metadata": {},
   "outputs": [
    {
     "name": "stdout",
     "output_type": "stream",
     "text": [
      "Part 1: 991\n",
      "Part 2: 534\n"
     ]
    }
   ],
   "source": [
    "# Day 5: Binary Boarding\n",
    "def seat_id(boarding_pass):\n",
    "    row = boarding_pass[:7].replace(\"F\", \"0\").replace(\"B\", \"1\")\n",
    "    column = boarding_pass[7:].replace(\"L\", \"0\").replace(\"R\", \"1\")\n",
    "    return int(row, 2) * 8 + int(column, 2)\n",
    "\n",
    "\n",
    "boarding_passes = open(\"2020/5.txt\").read().splitlines()\n",
    "seat_ids = sorted(seat_id(boarding_pass) for boarding_pass in boarding_passes)\n",
    "print(f\"Part 1: {max(seat_ids)}\")\n",
    "my_seat_id = first(\n",
    "    (higher - 1) for lower, higher in zip(seat_ids, seat_ids[1:]) if higher - lower == 2\n",
    ")\n",
    "print(f\"Part 2: {my_seat_id}\")"
   ]
  },
  {
   "cell_type": "code",
   "execution_count": 41,
   "metadata": {},
   "outputs": [
    {
     "name": "stdout",
     "output_type": "stream",
     "text": [
      "Part 1: 6683\n",
      "Part 2: 3122\n"
     ]
    }
   ],
   "source": [
    "# Day 6: Custom Customs\n",
    "def unique_answers(groups):\n",
    "    total = 0\n",
    "    for group in groups:\n",
    "        answers = set()\n",
    "        for person in group:\n",
    "            for question in person:\n",
    "                answers.add(question)\n",
    "        total += len(answers)\n",
    "    return total\n",
    "\n",
    "\n",
    "def all_yes_answers(groups):\n",
    "    total = 0\n",
    "    for group in groups:\n",
    "        group_answers = Counter()\n",
    "        for person in group:\n",
    "            for question in person:\n",
    "                group_answers += Counter(question)\n",
    "        for answer, count in group_answers.items():\n",
    "            if count == len(group):\n",
    "                total += 1\n",
    "    return total\n",
    "\n",
    "\n",
    "groups = open(\"2020/6.txt\").read().strip().split(\"\\n\\n\")\n",
    "groups = [group.splitlines() for group in groups]\n",
    "\n",
    "print(f\"Part 1: {unique_answers(groups)}\")\n",
    "print(f\"Part 2: {all_yes_answers(groups)}\")"
   ]
  },
  {
   "cell_type": "code",
   "execution_count": 194,
   "metadata": {},
   "outputs": [
    {
     "name": "stdout",
     "output_type": "stream",
     "text": [
      "Part 1: 197\n",
      "Part 2: 85324\n"
     ]
    }
   ],
   "source": [
    "# Day 7: Handy Haversacks\n",
    "def parse_lines(lines):\n",
    "    bags = defaultdict(lambda: list())\n",
    "    parents = defaultdict(lambda: set())\n",
    "    for line in lines:\n",
    "        source, destinations = line.split(\" bags contain \")\n",
    "        for destination in destinations.split(\", \"):\n",
    "            if p := parse(\"{:d} {} ba{}\", destination):\n",
    "                amount, bag, _ = p\n",
    "                bags[source] += [(amount, bag)]\n",
    "                parents[bag] |= {source}\n",
    "            else:\n",
    "                bags[source] = []\n",
    "\n",
    "    return bags, parents\n",
    "\n",
    "\n",
    "def can_contain(bag_type=\"shiny gold\"):\n",
    "    result = parents[bag_type].copy()\n",
    "    for parent in parents[bag_type]:\n",
    "        result |= can_contain(parent)\n",
    "    return result\n",
    "\n",
    "\n",
    "def number_of_bags(bag_type=\"shiny gold\"):\n",
    "    \"Return number of bags contained in this bag\"\n",
    "    return sum(\n",
    "        num_child + num_child * number_of_bags(child)\n",
    "        for num_child, child in bags[bag_type]\n",
    "    )\n",
    "\n",
    "\n",
    "lines = open(\"2020/7.txt\").read().splitlines()\n",
    "bags, parents = parse_lines(lines)\n",
    "print(f\"Part 1: {len(can_contain())}\")  # 197\n",
    "print(f\"Part 2: {number_of_bags()}\")  # 85324"
   ]
  },
  {
   "cell_type": "code",
   "execution_count": 238,
   "metadata": {},
   "outputs": [
    {
     "name": "stdout",
     "output_type": "stream",
     "text": [
      "Part 1: 1675\n",
      "Part 2: 1532\n"
     ]
    }
   ],
   "source": [
    "# Day 8: Handheld Halting\n",
    "def run_program(lines):\n",
    "    \"Returns (True, result) if program runs to completion, (False, result) if it ends up in an infinite loop\"\n",
    "    pc = acc = 0\n",
    "    pcs = set()\n",
    "    for _ in range(1000):\n",
    "        instruction, value = parse(\"{} {:d}\", lines[pc])\n",
    "        match instruction:\n",
    "            case \"acc\":\n",
    "                acc += value\n",
    "            case \"jmp\":\n",
    "                pc += value - 1\n",
    "        pc += 1\n",
    "        if pc in pcs or pc >= len(lines):\n",
    "            return (pc >= len(lines), acc)\n",
    "        pcs.add(pc)\n",
    "\n",
    "\n",
    "def modified_programs(lines):\n",
    "    modified_lines = lines.copy()\n",
    "    for pc, line in enumerate(lines):\n",
    "        instruction, value = parse(\"{} {}\", lines[pc])\n",
    "        if instruction == \"jmp\":\n",
    "            modified_lines[pc] = \"nop \" + value\n",
    "        elif instruction == \"nop\":\n",
    "            modified_lines[pc] = \"jmp \" + value\n",
    "        else:\n",
    "            continue\n",
    "        yield modified_lines.copy()\n",
    "        modified_lines[pc] = lines[pc]\n",
    "\n",
    "\n",
    "def part2(lines):\n",
    "    for program in modified_programs(lines):\n",
    "        (part2, result) = run_program(program)\n",
    "        if part2:\n",
    "            return result\n",
    "\n",
    "\n",
    "lines = open(\"2020/8.txt\").read().splitlines()\n",
    "print(f\"Part 1: {run_program(lines)[1]}\")  # 1675\n",
    "print(f\"Part 2: {part2(lines)}\")  # 1532"
   ]
  },
  {
   "cell_type": "code",
   "execution_count": 282,
   "metadata": {},
   "outputs": [
    {
     "name": "stdout",
     "output_type": "stream",
     "text": [
      "Part 1: 57195069\n",
      "Part 2: 7409241\n"
     ]
    }
   ],
   "source": [
    "# Day 9: Encoding Error\n",
    "def valid(position, numbers, length):\n",
    "    for a, b in permutations(numbers[position - length : position], 2):\n",
    "        if numbers[position] == a + b:\n",
    "            return True\n",
    "    return False\n",
    "\n",
    "\n",
    "def first_invalid(numbers, length=25):\n",
    "    return first(\n",
    "        numbers[pos]\n",
    "        for pos in range(length, len(numbers))\n",
    "        if not valid(pos, numbers, length)\n",
    "    )\n",
    "\n",
    "\n",
    "def target_sequence(target, numbers):\n",
    "    for start in range(len(numbers)):\n",
    "        for end in range(start + 1, len(numbers)):\n",
    "            if sum(numbers[start:end]) == target:\n",
    "                return numbers[start:end]\n",
    "\n",
    "\n",
    "lines = open(\"2020/9.txt\").read().splitlines()\n",
    "numbers = [int(x) for x in lines]\n",
    "invalid = first_invalid(numbers)\n",
    "sequence = target_sequence(invalid, numbers)\n",
    "print(f\"Part 1: {invalid}\")\n",
    "print(f\"Part 2: {min(sequence) + max(sequence)}\")"
   ]
  },
  {
   "cell_type": "code",
   "execution_count": null,
   "metadata": {},
   "outputs": [],
   "source": []
  }
 ],
 "metadata": {
  "kernelspec": {
   "display_name": "Python 3",
   "language": "python",
   "name": "python3"
  },
  "language_info": {
   "codemirror_mode": {
    "name": "ipython",
    "version": 3
   },
   "file_extension": ".py",
   "mimetype": "text/x-python",
   "name": "python",
   "nbconvert_exporter": "python",
   "pygments_lexer": "ipython3",
   "version": "3.10.6"
  },
  "orig_nbformat": 4,
  "vscode": {
   "interpreter": {
    "hash": "5319d5bf7e36bfcf27cea384254d8f85c68ed4d2ed4a006aeced7224a94cc17a"
   }
  }
 },
 "nbformat": 4,
 "nbformat_minor": 2
}
